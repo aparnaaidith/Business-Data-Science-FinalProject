{
 "cells": [
  {
   "cell_type": "markdown",
   "metadata": {},
   "source": [
    "## IMPORTING LIBRARIES"
   ]
  },
  {
   "cell_type": "code",
   "execution_count": 1,
   "metadata": {},
   "outputs": [],
   "source": [
    "import pandas as pd\n",
    "import numpy as np\n",
    "import datetime as dt\n",
    "import matplotlib.pyplot as plt\n",
    "import matplotlib.mlab as mlab\n",
    "import seaborn as sns\n",
    "import os, json\n",
    "from scipy.stats import skew\n",
    "from scipy.stats import ttest_ind, f_oneway, lognorm, levy, skew, chisquare\n",
    "from sklearn.preprocessing import normalize, scale\n",
    "\n",
    "\n",
    "from scipy.stats import ttest_ind, f_oneway, lognorm, levy, skew, chisquare\n",
    "from sklearn.preprocessing import normalize, scale\n",
    "\n",
    "%matplotlib inline\n",
    "\n",
    "import warnings\n",
    "warnings.filterwarnings('ignore')"
   ]
  },
  {
   "cell_type": "code",
   "execution_count": 2,
   "metadata": {},
   "outputs": [],
   "source": [
    "#since the main_category field is in the format of json\n",
    "def CustomParser(data):\n",
    "    import json\n",
    "    j1 = json.loads(data)\n",
    "    return j1"
   ]
  },
  {
   "cell_type": "markdown",
   "metadata": {},
   "source": [
    "## READING THE DATASET"
   ]
  },
  {
   "cell_type": "code",
   "execution_count": 3,
   "metadata": {},
   "outputs": [],
   "source": [
    "%%capture\n",
    "\n",
    "# Download dataset\n",
    "kickstarter_data = pd.read_csv('/Users/abraham.george.j/Desktop/UT/Courses/Business Data Science/Misc/aparna-temp-github/Final Project/Kickstarter_2018_11.csv', converters={'category':CustomParser}, error_bad_lines=False)\n"
   ]
  },
  {
   "cell_type": "code",
   "execution_count": 4,
   "metadata": {},
   "outputs": [
    {
     "name": "stdout",
     "output_type": "stream",
     "text": [
      "Number of rows: 206542\n",
      "Number of columns:  37\n"
     ]
    }
   ],
   "source": [
    "# Print the size of the dataset\n",
    "print (\"Number of rows:\", kickstarter_data.shape[0])\n",
    "print (\"Number of columns: \", kickstarter_data.shape[1])"
   ]
  },
  {
   "cell_type": "code",
   "execution_count": 5,
   "metadata": {},
   "outputs": [
    {
     "data": {
      "text/plain": [
       "(206542, 37)"
      ]
     },
     "execution_count": 5,
     "metadata": {},
     "output_type": "execute_result"
    }
   ],
   "source": [
    "kickstarter_data.shape"
   ]
  },
  {
   "cell_type": "code",
   "execution_count": 6,
   "metadata": {},
   "outputs": [
    {
     "data": {
      "text/plain": [
       "Index(['backers_count', 'blurb', 'category', 'converted_pledged_amount',\n",
       "       'country', 'created_at', 'creator', 'currency', 'currency_symbol',\n",
       "       'currency_trailing_code', 'current_currency', 'deadline',\n",
       "       'disable_communication', 'friends', 'fx_rate', 'goal', 'id',\n",
       "       'is_backing', 'is_starrable', 'is_starred', 'launched_at', 'location',\n",
       "       'name', 'permissions', 'photo', 'pledged', 'profile', 'slug',\n",
       "       'source_url', 'spotlight', 'staff_pick', 'state', 'state_changed_at',\n",
       "       'static_usd_rate', 'urls', 'usd_pledged', 'usd_type'],\n",
       "      dtype='object')"
      ]
     },
     "execution_count": 6,
     "metadata": {},
     "output_type": "execute_result"
    }
   ],
   "source": [
    "kickstarter_data.columns"
   ]
  },
  {
   "cell_type": "markdown",
   "metadata": {},
   "source": [
    "\n",
    "### Summary\n",
    "\n",
    "The initial dataset has categorical and numerical variables. Before building our model,few other processes needs to followed.The process goes like :\n",
    "\n",
    "**(1) Data cleaning**\n",
    "\n",
    "**(2) Feature engineering**\n",
    "\n",
    "**(3) Exploratory data analysis**\n",
    "\n",
    "**(4) Building the model**\n",
    "\n",
    "\n",
    "\n",
    "## Step 1 : DATA CLEANING"
   ]
  },
  {
   "cell_type": "code",
   "execution_count": 7,
   "metadata": {},
   "outputs": [
    {
     "name": "stdout",
     "output_type": "stream",
     "text": [
      "Data dimension before cleaning: (206542, 37)\n"
     ]
    }
   ],
   "source": [
    "print(\"Data dimension before cleaning:\", kickstarter_data.shape)"
   ]
  },
  {
   "cell_type": "code",
   "execution_count": 8,
   "metadata": {},
   "outputs": [],
   "source": [
    "cleaned_kickstarter_data = kickstarter_data.copy()"
   ]
  },
  {
   "cell_type": "code",
   "execution_count": 9,
   "metadata": {},
   "outputs": [],
   "source": [
    "#only the necessary features which are required for predictions are taken\n",
    "selected_features = ['backers_count',\n",
    "                     'blurb',\n",
    "                     'category',\n",
    "                     'country',\n",
    "                     'created_at',\n",
    "                     'currency', \n",
    "                     'deadline',\n",
    "                     'goal',\n",
    "                     'launched_at',\n",
    "                     'name',\n",
    "                     'spotlight',\n",
    "                     'staff_pick',\n",
    "                     'state',\n",
    "                     'usd_pledged',\n",
    "                     'usd_type']"
   ]
  },
  {
   "cell_type": "code",
   "execution_count": 10,
   "metadata": {},
   "outputs": [],
   "source": [
    "#get rid of uneccessary columns in training and testing\n",
    "cleaned_kickstarter_data = cleaned_kickstarter_data[selected_features]"
   ]
  },
  {
   "cell_type": "code",
   "execution_count": 11,
   "metadata": {},
   "outputs": [
    {
     "data": {
      "text/html": [
       "<div>\n",
       "<style scoped>\n",
       "    .dataframe tbody tr th:only-of-type {\n",
       "        vertical-align: middle;\n",
       "    }\n",
       "\n",
       "    .dataframe tbody tr th {\n",
       "        vertical-align: top;\n",
       "    }\n",
       "\n",
       "    .dataframe thead th {\n",
       "        text-align: right;\n",
       "    }\n",
       "</style>\n",
       "<table border=\"1\" class=\"dataframe\">\n",
       "  <thead>\n",
       "    <tr style=\"text-align: right;\">\n",
       "      <th></th>\n",
       "      <th>backers_count</th>\n",
       "      <th>blurb</th>\n",
       "      <th>category</th>\n",
       "      <th>country</th>\n",
       "      <th>created_at</th>\n",
       "      <th>currency</th>\n",
       "      <th>deadline</th>\n",
       "      <th>goal</th>\n",
       "      <th>launched_at</th>\n",
       "      <th>name</th>\n",
       "      <th>spotlight</th>\n",
       "      <th>staff_pick</th>\n",
       "      <th>state</th>\n",
       "      <th>usd_pledged</th>\n",
       "      <th>usd_type</th>\n",
       "    </tr>\n",
       "  </thead>\n",
       "  <tbody>\n",
       "    <tr>\n",
       "      <th>0</th>\n",
       "      <td>41</td>\n",
       "      <td>We are creating pop-up beer gardens using vint...</td>\n",
       "      <td>{'id': 311, 'name': 'Food Trucks', 'slug': 'fo...</td>\n",
       "      <td>US</td>\n",
       "      <td>1403482635</td>\n",
       "      <td>USD</td>\n",
       "      <td>1410612852</td>\n",
       "      <td>25000.0</td>\n",
       "      <td>1408020852</td>\n",
       "      <td>COOKIES AND BEER</td>\n",
       "      <td>False</td>\n",
       "      <td>False</td>\n",
       "      <td>failed</td>\n",
       "      <td>12370.00000</td>\n",
       "      <td>domestic</td>\n",
       "    </tr>\n",
       "    <tr>\n",
       "      <th>1</th>\n",
       "      <td>28</td>\n",
       "      <td>A fine art print collection from 25 original d...</td>\n",
       "      <td>{'id': 22, 'name': 'Illustration', 'slug': 'ar...</td>\n",
       "      <td>US</td>\n",
       "      <td>1317689791</td>\n",
       "      <td>USD</td>\n",
       "      <td>1322025449</td>\n",
       "      <td>1950.0</td>\n",
       "      <td>1319429849</td>\n",
       "      <td>\"Influential Figures\" Drawing Prints Box Set</td>\n",
       "      <td>True</td>\n",
       "      <td>True</td>\n",
       "      <td>successful</td>\n",
       "      <td>2412.27000</td>\n",
       "      <td>international</td>\n",
       "    </tr>\n",
       "    <tr>\n",
       "      <th>2</th>\n",
       "      <td>124</td>\n",
       "      <td>A science quest for the world beer diversity: ...</td>\n",
       "      <td>{'id': 307, 'name': 'Drinks', 'slug': 'food/dr...</td>\n",
       "      <td>FR</td>\n",
       "      <td>1431862062</td>\n",
       "      <td>EUR</td>\n",
       "      <td>1435561200</td>\n",
       "      <td>10000.0</td>\n",
       "      <td>1432711420</td>\n",
       "      <td>BeerDeCoded: the 1,000 beer genomes</td>\n",
       "      <td>True</td>\n",
       "      <td>True</td>\n",
       "      <td>successful</td>\n",
       "      <td>11796.65466</td>\n",
       "      <td>international</td>\n",
       "    </tr>\n",
       "  </tbody>\n",
       "</table>\n",
       "</div>"
      ],
      "text/plain": [
       "   backers_count                                              blurb  \\\n",
       "0             41  We are creating pop-up beer gardens using vint...   \n",
       "1             28  A fine art print collection from 25 original d...   \n",
       "2            124  A science quest for the world beer diversity: ...   \n",
       "\n",
       "                                            category country  created_at  \\\n",
       "0  {'id': 311, 'name': 'Food Trucks', 'slug': 'fo...      US  1403482635   \n",
       "1  {'id': 22, 'name': 'Illustration', 'slug': 'ar...      US  1317689791   \n",
       "2  {'id': 307, 'name': 'Drinks', 'slug': 'food/dr...      FR  1431862062   \n",
       "\n",
       "  currency    deadline     goal  launched_at  \\\n",
       "0      USD  1410612852  25000.0   1408020852   \n",
       "1      USD  1322025449   1950.0   1319429849   \n",
       "2      EUR  1435561200  10000.0   1432711420   \n",
       "\n",
       "                                           name  spotlight  staff_pick  \\\n",
       "0                              COOKIES AND BEER      False       False   \n",
       "1  \"Influential Figures\" Drawing Prints Box Set       True        True   \n",
       "2           BeerDeCoded: the 1,000 beer genomes       True        True   \n",
       "\n",
       "        state  usd_pledged       usd_type  \n",
       "0      failed  12370.00000       domestic  \n",
       "1  successful   2412.27000  international  \n",
       "2  successful  11796.65466  international  "
      ]
     },
     "execution_count": 11,
     "metadata": {},
     "output_type": "execute_result"
    }
   ],
   "source": [
    "cleaned_kickstarter_data.head(3)"
   ]
  },
  {
   "cell_type": "code",
   "execution_count": 12,
   "metadata": {},
   "outputs": [],
   "source": [
    "cleaned_kickstarter_data = cleaned_kickstarter_data.rename(columns={\"name\": \"name_wtho_categ\"})"
   ]
  },
  {
   "cell_type": "code",
   "execution_count": 13,
   "metadata": {},
   "outputs": [
    {
     "data": {
      "text/html": [
       "<div>\n",
       "<style scoped>\n",
       "    .dataframe tbody tr th:only-of-type {\n",
       "        vertical-align: middle;\n",
       "    }\n",
       "\n",
       "    .dataframe tbody tr th {\n",
       "        vertical-align: top;\n",
       "    }\n",
       "\n",
       "    .dataframe thead th {\n",
       "        text-align: right;\n",
       "    }\n",
       "</style>\n",
       "<table border=\"1\" class=\"dataframe\">\n",
       "  <thead>\n",
       "    <tr style=\"text-align: right;\">\n",
       "      <th></th>\n",
       "      <th>backers_count</th>\n",
       "      <th>blurb</th>\n",
       "      <th>category</th>\n",
       "      <th>country</th>\n",
       "      <th>created_at</th>\n",
       "      <th>currency</th>\n",
       "      <th>deadline</th>\n",
       "      <th>goal</th>\n",
       "      <th>launched_at</th>\n",
       "      <th>name_wtho_categ</th>\n",
       "      <th>spotlight</th>\n",
       "      <th>staff_pick</th>\n",
       "      <th>state</th>\n",
       "      <th>usd_pledged</th>\n",
       "      <th>usd_type</th>\n",
       "    </tr>\n",
       "  </thead>\n",
       "  <tbody>\n",
       "    <tr>\n",
       "      <th>0</th>\n",
       "      <td>41</td>\n",
       "      <td>We are creating pop-up beer gardens using vint...</td>\n",
       "      <td>{'id': 311, 'name': 'Food Trucks', 'slug': 'fo...</td>\n",
       "      <td>US</td>\n",
       "      <td>1403482635</td>\n",
       "      <td>USD</td>\n",
       "      <td>1410612852</td>\n",
       "      <td>25000.0</td>\n",
       "      <td>1408020852</td>\n",
       "      <td>COOKIES AND BEER</td>\n",
       "      <td>False</td>\n",
       "      <td>False</td>\n",
       "      <td>failed</td>\n",
       "      <td>12370.00000</td>\n",
       "      <td>domestic</td>\n",
       "    </tr>\n",
       "    <tr>\n",
       "      <th>1</th>\n",
       "      <td>28</td>\n",
       "      <td>A fine art print collection from 25 original d...</td>\n",
       "      <td>{'id': 22, 'name': 'Illustration', 'slug': 'ar...</td>\n",
       "      <td>US</td>\n",
       "      <td>1317689791</td>\n",
       "      <td>USD</td>\n",
       "      <td>1322025449</td>\n",
       "      <td>1950.0</td>\n",
       "      <td>1319429849</td>\n",
       "      <td>\"Influential Figures\" Drawing Prints Box Set</td>\n",
       "      <td>True</td>\n",
       "      <td>True</td>\n",
       "      <td>successful</td>\n",
       "      <td>2412.27000</td>\n",
       "      <td>international</td>\n",
       "    </tr>\n",
       "    <tr>\n",
       "      <th>2</th>\n",
       "      <td>124</td>\n",
       "      <td>A science quest for the world beer diversity: ...</td>\n",
       "      <td>{'id': 307, 'name': 'Drinks', 'slug': 'food/dr...</td>\n",
       "      <td>FR</td>\n",
       "      <td>1431862062</td>\n",
       "      <td>EUR</td>\n",
       "      <td>1435561200</td>\n",
       "      <td>10000.0</td>\n",
       "      <td>1432711420</td>\n",
       "      <td>BeerDeCoded: the 1,000 beer genomes</td>\n",
       "      <td>True</td>\n",
       "      <td>True</td>\n",
       "      <td>successful</td>\n",
       "      <td>11796.65466</td>\n",
       "      <td>international</td>\n",
       "    </tr>\n",
       "  </tbody>\n",
       "</table>\n",
       "</div>"
      ],
      "text/plain": [
       "   backers_count                                              blurb  \\\n",
       "0             41  We are creating pop-up beer gardens using vint...   \n",
       "1             28  A fine art print collection from 25 original d...   \n",
       "2            124  A science quest for the world beer diversity: ...   \n",
       "\n",
       "                                            category country  created_at  \\\n",
       "0  {'id': 311, 'name': 'Food Trucks', 'slug': 'fo...      US  1403482635   \n",
       "1  {'id': 22, 'name': 'Illustration', 'slug': 'ar...      US  1317689791   \n",
       "2  {'id': 307, 'name': 'Drinks', 'slug': 'food/dr...      FR  1431862062   \n",
       "\n",
       "  currency    deadline     goal  launched_at  \\\n",
       "0      USD  1410612852  25000.0   1408020852   \n",
       "1      USD  1322025449   1950.0   1319429849   \n",
       "2      EUR  1435561200  10000.0   1432711420   \n",
       "\n",
       "                                name_wtho_categ  spotlight  staff_pick  \\\n",
       "0                              COOKIES AND BEER      False       False   \n",
       "1  \"Influential Figures\" Drawing Prints Box Set       True        True   \n",
       "2           BeerDeCoded: the 1,000 beer genomes       True        True   \n",
       "\n",
       "        state  usd_pledged       usd_type  \n",
       "0      failed  12370.00000       domestic  \n",
       "1  successful   2412.27000  international  \n",
       "2  successful  11796.65466  international  "
      ]
     },
     "execution_count": 13,
     "metadata": {},
     "output_type": "execute_result"
    }
   ],
   "source": [
    "cleaned_kickstarter_data.head(3)"
   ]
  },
  {
   "cell_type": "code",
   "execution_count": 14,
   "metadata": {},
   "outputs": [],
   "source": [
    "cleaned_kickstarter_data[sorted(cleaned_kickstarter_data['category'][0].keys())] = cleaned_kickstarter_data['category'].apply(pd.Series)"
   ]
  },
  {
   "cell_type": "code",
   "execution_count": 15,
   "metadata": {},
   "outputs": [],
   "source": [
    "#Renaming all the columns\n",
    "cleaned_kickstarter_data = cleaned_kickstarter_data.rename(columns={\"name_wtho_categ\": \"name\", \"color\": \"category.id\", \"id\": \"category.name\", \"name\": \"category.slug\",\n",
    "                            \"parent_id\": \"position\", \"position\": \"category.parent_id\", \"slug\": \"color\"})"
   ]
  },
  {
   "cell_type": "code",
   "execution_count": 16,
   "metadata": {},
   "outputs": [],
   "source": [
    "cleaned_kickstarter_data = cleaned_kickstarter_data.drop(['color', 'position', 'urls'], axis=1)"
   ]
  },
  {
   "cell_type": "markdown",
   "metadata": {},
   "source": [
    "### Checking for missing values\n",
    "It's easy to check for missing values by calling the isnull() method, and the sum() method off of that, to return a tally of all the True values that are returned by the isnull() method."
   ]
  },
  {
   "cell_type": "code",
   "execution_count": 17,
   "metadata": {},
   "outputs": [
    {
     "data": {
      "text/plain": [
       "backers_count             0\n",
       "blurb                    10\n",
       "category                  0\n",
       "country                   0\n",
       "created_at                0\n",
       "currency                  0\n",
       "deadline                  0\n",
       "goal                      0\n",
       "launched_at               0\n",
       "name                      1\n",
       "spotlight                 0\n",
       "staff_pick                0\n",
       "state                     0\n",
       "usd_pledged               0\n",
       "usd_type               2616\n",
       "category.id               0\n",
       "category.name             0\n",
       "category.slug             0\n",
       "category.parent_id    17362\n",
       "dtype: int64"
      ]
     },
     "execution_count": 17,
     "metadata": {},
     "output_type": "execute_result"
    }
   ],
   "source": [
    "cleaned_kickstarter_data.isnull().sum()"
   ]
  },
  {
   "cell_type": "code",
   "execution_count": 18,
   "metadata": {},
   "outputs": [],
   "source": [
    "cleaned_kickstarter_data = cleaned_kickstarter_data.dropna()"
   ]
  },
  {
   "cell_type": "code",
   "execution_count": 19,
   "metadata": {},
   "outputs": [
    {
     "data": {
      "text/plain": [
       "backers_count         0\n",
       "blurb                 0\n",
       "category              0\n",
       "country               0\n",
       "created_at            0\n",
       "currency              0\n",
       "deadline              0\n",
       "goal                  0\n",
       "launched_at           0\n",
       "name                  0\n",
       "spotlight             0\n",
       "staff_pick            0\n",
       "state                 0\n",
       "usd_pledged           0\n",
       "usd_type              0\n",
       "category.id           0\n",
       "category.name         0\n",
       "category.slug         0\n",
       "category.parent_id    0\n",
       "dtype: int64"
      ]
     },
     "execution_count": 19,
     "metadata": {},
     "output_type": "execute_result"
    }
   ],
   "source": [
    "cleaned_kickstarter_data.isnull().sum()"
   ]
  },
  {
   "cell_type": "code",
   "execution_count": 20,
   "metadata": {},
   "outputs": [],
   "source": [
    "#select only data with known status\n",
    "successful = cleaned_kickstarter_data['state'] == \"successful\"\n",
    "failed = cleaned_kickstarter_data['state'] == \"failed\"\n",
    "cancelled = cleaned_kickstarter_data['state'] == \"cancelled\"\n",
    "suspended = cleaned_kickstarter_data['state'] == \"suspended\"\n",
    "\n",
    "\n",
    "cleaned_kickstarter_data = cleaned_kickstarter_data.loc[failed | successful | cancelled | suspended]"
   ]
  },
  {
   "cell_type": "code",
   "execution_count": 21,
   "metadata": {},
   "outputs": [],
   "source": [
    "#Convert argument given to_numeric to a numeric type\n",
    "numerical_columns = ['usd_pledged',\n",
    "                    'deadline',\n",
    "                    'created_at',\n",
    "                    'launched_at']\n",
    "cleaned_kickstarter_data[numerical_columns] = cleaned_kickstarter_data[numerical_columns].apply(pd.to_numeric, errors='coerce')"
   ]
  },
  {
   "cell_type": "code",
   "execution_count": 22,
   "metadata": {},
   "outputs": [
    {
     "data": {
      "text/plain": [
       "backers_count         0\n",
       "blurb                 0\n",
       "category              0\n",
       "country               0\n",
       "created_at            0\n",
       "currency              0\n",
       "deadline              0\n",
       "goal                  0\n",
       "launched_at           0\n",
       "name                  0\n",
       "spotlight             0\n",
       "staff_pick            0\n",
       "state                 0\n",
       "usd_pledged           0\n",
       "usd_type              0\n",
       "category.id           0\n",
       "category.name         0\n",
       "category.slug         0\n",
       "category.parent_id    0\n",
       "dtype: int64"
      ]
     },
     "execution_count": 22,
     "metadata": {},
     "output_type": "execute_result"
    }
   ],
   "source": [
    "cleaned_kickstarter_data.isnull().sum()"
   ]
  },
  {
   "cell_type": "code",
   "execution_count": 23,
   "metadata": {},
   "outputs": [],
   "source": [
    "#Convert argument given to to_datetime  to datetime\n",
    "cleaned_kickstarter_data['created_at'] = pd.to_datetime(cleaned_kickstarter_data['created_at'],unit='s')\n",
    "cleaned_kickstarter_data['launched_at'] = pd.to_datetime(cleaned_kickstarter_data['launched_at'],unit='s')\n",
    "cleaned_kickstarter_data['deadline'] = pd.to_datetime(cleaned_kickstarter_data['deadline'],unit='s')"
   ]
  },
  {
   "cell_type": "markdown",
   "metadata": {},
   "source": [
    "## Step 2 : FEATURE ENGINEERING\n",
    "In order to gain a deeper understanding of Kickstarter environment and the drivers to successful campaigns, new features are intuitively engineered from current variables. The end results reduced the dataset to the following features:\n",
    "\n",
    "* success: boolean feature indicating campaign (1) success (0) failure\n",
    "* name_len: length of name of project\n",
    "* desc_len: length of the short description or blurb\n",
    "* state: successful, failed, cancelled, or suspended\n",
    "* duration: days between creation and launch of campaign\n",
    "* launched_at,created_at,deadline: month, wday (day of week), hour (hour of day)\n",
    "* category:\n",
    "* subcategory:\n",
    "* country:\n",
    "* staff_picked:\n",
    "* goal:\n",
    "* blurb_len_clean: length of the blurb\n",
    "* category.id:\n",
    "* category.name:\n",
    "* category.slug:\n",
    "* category.parent_id\n",
    "\n",
    "\n",
    "\n"
   ]
  },
  {
   "cell_type": "code",
   "execution_count": 24,
   "metadata": {},
   "outputs": [],
   "source": [
    "# Considering only the successfull projects - therefore we are converting suspended, failed, cancelled, rejected projects to failed ones\n",
    "cleaned_kickstarter_data['state'].replace('suspended','failed',inplace=True)"
   ]
  },
  {
   "cell_type": "code",
   "execution_count": 25,
   "metadata": {},
   "outputs": [
    {
     "data": {
      "text/plain": [
       "0    food/food trucks\n",
       "1    art/illustration\n",
       "2         food/drinks\n",
       "Name: category.slug, dtype: object"
      ]
     },
     "execution_count": 25,
     "metadata": {},
     "output_type": "execute_result"
    }
   ],
   "source": [
    "cleaned_kickstarter_data['category.slug'].head(3)"
   ]
  },
  {
   "cell_type": "markdown",
   "metadata": {},
   "source": [
    "## Comparing successful, failed and cancelled campaigns in terms of the length of blurb"
   ]
  },
  {
   "cell_type": "code",
   "execution_count": 26,
   "metadata": {},
   "outputs": [],
   "source": [
    "cleaned_kickstarter_data['blurb_len_clean'] = cleaned_kickstarter_data['blurb'].map(str).apply(len)\n"
   ]
  },
  {
   "cell_type": "code",
   "execution_count": 27,
   "metadata": {},
   "outputs": [
    {
     "data": {
      "text/plain": [
       "0         135\n",
       "1          94\n",
       "2         134\n",
       "3         134\n",
       "4         134\n",
       "5         134\n",
       "6         132\n",
       "7         134\n",
       "8         133\n",
       "9         131\n",
       "10         51\n",
       "11        131\n",
       "12        128\n",
       "13         96\n",
       "14        135\n",
       "15        135\n",
       "16         56\n",
       "17        133\n",
       "18        129\n",
       "19        104\n",
       "20        124\n",
       "21        121\n",
       "23        123\n",
       "25         90\n",
       "26        105\n",
       "27        125\n",
       "28        135\n",
       "29        132\n",
       "30        134\n",
       "31        128\n",
       "         ... \n",
       "206508    135\n",
       "206509    125\n",
       "206510    123\n",
       "206511    123\n",
       "206513    131\n",
       "206514    102\n",
       "206515    121\n",
       "206516    113\n",
       "206517    126\n",
       "206518    106\n",
       "206519     94\n",
       "206520    135\n",
       "206521     98\n",
       "206522     55\n",
       "206523    133\n",
       "206524    133\n",
       "206525    133\n",
       "206527    129\n",
       "206528    127\n",
       "206529    134\n",
       "206531    102\n",
       "206532    113\n",
       "206534     53\n",
       "206535    132\n",
       "206536     92\n",
       "206537    135\n",
       "206538    113\n",
       "206539    134\n",
       "206540    134\n",
       "206541     73\n",
       "Name: blurb_len_clean, Length: 172676, dtype: int64"
      ]
     },
     "execution_count": 27,
     "metadata": {},
     "output_type": "execute_result"
    }
   ],
   "source": [
    "cleaned_kickstarter_data['blurb_len_clean'].map(int)"
   ]
  },
  {
   "cell_type": "code",
   "execution_count": 28,
   "metadata": {},
   "outputs": [
    {
     "name": "stdout",
     "output_type": "stream",
     "text": [
      "97804  successful campaigns\n",
      "74872  failed campaigns\n",
      "0  cancelled campaigns\n"
     ]
    }
   ],
   "source": [
    "successful_kickstarter = cleaned_kickstarter_data[cleaned_kickstarter_data['state'] == \"successful\"]\n",
    "failed_kickstarter = cleaned_kickstarter_data[cleaned_kickstarter_data['state'] == \"failed\"]\n",
    "cancelled_kickstarter = cleaned_kickstarter_data[cleaned_kickstarter_data['state'] == \"canceled\"]\n",
    "print(len(successful_kickstarter),\" successful campaigns\")\n",
    "print(len(failed_kickstarter),\" failed campaigns\")\n",
    "print(len(cancelled_kickstarter),\" cancelled campaigns\")"
   ]
  },
  {
   "cell_type": "code",
   "execution_count": 29,
   "metadata": {},
   "outputs": [
    {
     "name": "stdout",
     "output_type": "stream",
     "text": [
      "Ttest_indResult(statistic=-10.560716685268046, pvalue=4.615685568970473e-26)\n",
      "Failed mean:  113.70827545677957\n",
      "Successful mean:  115.00528608236883\n"
     ]
    },
    {
     "data": {
      "image/png": "[encoded data removed]",
      "text/plain": [
       "<Figure size 720x360 with 1 Axes>"
      ]
     },
     "metadata": {},
     "output_type": "display_data"
    }
   ],
   "source": [
    "n = 'blurb_len_clean'\n",
    "compare_blurb_len_clean = pd.concat([cleaned_kickstarter_data[n].value_counts(),successful_kickstarter[n].value_counts(),failed_kickstarter[n].value_counts(),cancelled_kickstarter[n].value_counts()], axis=1)\n",
    "compare_blurb_len_clean.columns = ['all','successful','failed','cancelled']\n",
    "compare_blurb_len_clean.loc['total'] = compare_blurb_len_clean.sum(axis=0)\n",
    "\n",
    "def get_perc(val, col):\n",
    "    return (val / compare_blurb_len_clean[col]['total'])*100\n",
    "\n",
    "compare_blurb_len_clean['all_perc'] = compare_blurb_len_clean['all'].apply(get_perc, args=('all',))\n",
    "compare_blurb_len_clean['success_perc'] = compare_blurb_len_clean['successful'].apply(get_perc, args=('successful',))\n",
    "compare_blurb_len_clean['failed_perc'] = compare_blurb_len_clean['failed'].apply(get_perc, args=('failed',))\n",
    "compare_blurb_len_clean['cancelled_perc'] = compare_blurb_len_clean['cancelled'].apply(get_perc, args=('cancelled',))\n",
    "\n",
    "compare_blurb_len_clean[['success_perc','failed_perc']][:14].sort_index().plot(kind='bar',figsize=(10,5), title = \"Distribution of length of blurb for successful and failed campaigns\")\n",
    "\n",
    "print(ttest_ind(failed_kickstarter[n], successful_kickstarter[n]))\n",
    "print(\"Failed mean: \", failed_kickstarter[n].mean())\n",
    "print(\"Successful mean: \", successful_kickstarter[n].mean())"
   ]
  },
  {
   "cell_type": "markdown",
   "metadata": {},
   "source": [
    "## Does any success has any relation with weekday ??"
   ]
  },
  {
   "cell_type": "code",
   "execution_count": 47,
   "metadata": {},
   "outputs": [],
   "source": [
    "#Categories is initially a json datatype. We need to split that into id,name slug etc\n",
    "cleaned_kickstarter_data['catg.type'], cleaned_kickstarter_data['catg.subtype'] = cleaned_kickstarter_data['category.slug'].str.split('/', 1).str\n",
    "\n",
    "\n",
    "#Gives the total number of successful projects    \n",
    "cleaned_kickstarter_data['state_num'] = cleaned_kickstarter_data['state'].apply(lambda x: 1 if x=='successful' else 0)\n",
    "\n",
    "cleaned_kickstarter_data['launched_at_hr'] = cleaned_kickstarter_data['launched_at'].apply(lambda x: x.hour) + 1\n",
    "cleaned_kickstarter_data['launched_at_day'] = cleaned_kickstarter_data['launched_at'].apply(lambda x: x.dayofweek + 1) #Monday=1, Sunday=7\n",
    "cleaned_kickstarter_data['launched_at_month'] = cleaned_kickstarter_data['launched_at'].apply(lambda x: x.month)\n",
    "cleaned_kickstarter_data['launched_at_year'] = cleaned_kickstarter_data['launched_at'].apply(lambda x: x.year)\n",
    "    \n",
    "cleaned_kickstarter_data['deadline_hr'] = cleaned_kickstarter_data['deadline'].apply(lambda x: x.hour) + 1\n",
    "cleaned_kickstarter_data['deadline_day'] = cleaned_kickstarter_data['deadline'].apply(lambda x: x.dayofweek + 1) #Monday=1, Sunday=7\n",
    "cleaned_kickstarter_data['deadline_month'] = cleaned_kickstarter_data['deadline'].apply(lambda x: x.month)\n",
    "cleaned_kickstarter_data['deadline_year'] = cleaned_kickstarter_data['deadline'].apply(lambda x: x.year)\n",
    "    \n",
    "cleaned_kickstarter_data['created_at_hr'] = cleaned_kickstarter_data['created_at'].apply(lambda x: x.hour) + 1\n",
    "cleaned_kickstarter_data['created_at_day'] = cleaned_kickstarter_data['created_at'].apply(lambda x: x.dayofweek + 1) #Monday=1, Sunday=7\n",
    "cleaned_kickstarter_data['created_at_month'] = cleaned_kickstarter_data['created_at'].apply(lambda x: x.month)\n",
    "cleaned_kickstarter_data['created_at_year'] = cleaned_kickstarter_data['created_at'].apply(lambda x: x.year)"
   ]
  },
  {
   "cell_type": "code",
   "execution_count": 48,
   "metadata": {},
   "outputs": [],
   "source": [
    "# To compare creation to launch \n",
    "cleaned_kickstarter_data['launched-created'] = (cleaned_kickstarter_data.launched_at - cleaned_kickstarter_data.created_at).dt.components.days\n",
    "\n",
    "    "
   ]
  },
  {
   "cell_type": "code",
   "execution_count": 62,
   "metadata": {},
   "outputs": [],
   "source": [
    "# To compare launch to deadline\n",
    "cleaned_kickstarter_data['deadline-launched'] = (cleaned_kickstarter_data.deadline - cleaned_kickstarter_data.launched_at).dt.components.days"
   ]
  },
  {
   "cell_type": "code",
   "execution_count": 63,
   "metadata": {},
   "outputs": [],
   "source": [
    "successful_kickstarter = cleaned_kickstarter_data[cleaned_kickstarter_data['state'] == \"successful\"]\n",
    "failed_kickstarter = cleaned_kickstarter_data[cleaned_kickstarter_data['state'] == \"failed\"]\n",
    "cancelled_kickstarter = cleaned_kickstarter_data[cleaned_kickstarter_data['state'] == \"canceled\"]\n"
   ]
  },
  {
   "cell_type": "code",
   "execution_count": 64,
   "metadata": {},
   "outputs": [],
   "source": [
    "def week_distribution(val):\n",
    "    if val < 7:\n",
    "        return \"< 1 week\"\n",
    "    elif val < 14:\n",
    "        return \"1-2 weeks\"\n",
    "    elif val < 28:\n",
    "        return \"2-4 weeks\"\n",
    "    elif val < 35:\n",
    "        return \"4-5 weeks\"\n",
    "    elif val < 42:\n",
    "        return \"5-6 weeks\"\n",
    "    elif val < 56:\n",
    "        return \"6-8 weeks\"\n",
    "    else:\n",
    "        return \"8+ weeks\"\n"
   ]
  },
  {
   "cell_type": "code",
   "execution_count": 65,
   "metadata": {},
   "outputs": [],
   "source": [
    "def day_distribution(val):\n",
    "    if val < 1:\n",
    "        return \"0-1 day\"\n",
    "    elif val < 2:\n",
    "        return \"01-2 days\"\n",
    "    elif val < 7:\n",
    "        return \"02-7 days\"\n",
    "    elif val < 21:\n",
    "        return \"07-21 days\"\n",
    "    elif val < 42:\n",
    "        return \"21-42 days\"\n",
    "    elif val < 63:\n",
    "        return \"42-63 days\"\n",
    "    else:\n",
    "        return \"63+ days\""
   ]
  },
  {
   "cell_type": "code",
   "execution_count": 66,
   "metadata": {},
   "outputs": [],
   "source": [
    "\n",
    "between_launched_created = pd.concat([cleaned_kickstarter_data['launched-created'].apply(day_distribution).value_counts(),successful_kickstarter['launched-created'].apply(day_distribution).value_counts(),failed_kickstarter['launched-created'].apply(day_distribution).value_counts(),cancelled_kickstarter['launched-created'].apply(day_distribution).value_counts()], axis=1)\n",
    "between_launched_created.columns = ['all','successful','failed','cancelled']\n",
    "between_launched_created.loc['total'] = between_launched_created.sum(axis=0)\n",
    "\n",
    "between_launched_created['all_perc'] = between_launched_created['all'].apply(get_perc, args=('all',))\n",
    "between_launched_created['success_perc'] = between_launched_created['successful'].apply(get_perc, args=('successful',))\n",
    "between_launched_created['failed_perc'] = between_launched_created['failed'].apply(get_perc, args=('failed',))\n",
    "between_launched_created['cancelled_perc'] = between_launched_created['cancelled'].apply(get_perc, args=('cancelled',))\n"
   ]
  },
  {
   "cell_type": "code",
   "execution_count": 67,
   "metadata": {},
   "outputs": [],
   "source": [
    "successful_kickstarter = cleaned_kickstarter_data[cleaned_kickstarter_data['state'] == \"successful\"]\n",
    "failed_kickstarter = cleaned_kickstarter_data[cleaned_kickstarter_data['state'] == \"failed\"]\n",
    "cancelled_kickstarter = cleaned_kickstarter_data[cleaned_kickstarter_data['state'] == \"canceled\"]\n",
    "\n"
   ]
  },
  {
   "cell_type": "code",
   "execution_count": 68,
   "metadata": {},
   "outputs": [],
   "source": [
    "\n",
    "between_launched_deadline = pd.concat([cleaned_kickstarter_data['deadline-launched'].apply(week_distribution).value_counts(),successful_kickstarter['deadline-launched'].apply(week_distribution).value_counts(),failed_kickstarter[n].apply(week_distribution).value_counts(),cancelled_kickstarter['deadline-launched'].apply(week_distribution).value_counts()], axis=1)"
   ]
  },
  {
   "cell_type": "code",
   "execution_count": 69,
   "metadata": {},
   "outputs": [
    {
     "data": {
      "text/plain": [
       "<matplotlib.axes._subplots.AxesSubplot at 0x1a3cb21b00>"
      ]
     },
     "execution_count": 69,
     "metadata": {},
     "output_type": "execute_result"
    },
    {
     "data": {
      "image/png": "[encoded data removed]",
      "text/plain": [
       "<Figure size 720x360 with 1 Axes>"
      ]
     },
     "metadata": {},
     "output_type": "display_data"
    }
   ],
   "source": [
    "# Launched weekday distribution by state\n",
    "launched_deadline_df = pd.concat([successful_kickstarter['launched_at_day'].value_counts(), failed_kickstarter['launched_at_day'].value_counts()], axis=1)\n",
    "launched_deadline_df.columns = ['successful','failed']\n",
    "between_launched_deadline.loc['total'] = between_launched_created.sum(axis=0)\n",
    "\n",
    "launched_deadline_df['success_perc'] = launched_deadline_df['successful'].apply(get_perc, args=('successful',))\n",
    "launched_deadline_df['failed_perc'] = launched_deadline_df['failed'].apply(get_perc, args=('failed',))\n",
    "launched_deadline_df.index = [\"(5) Friday\",\"(1) Monday\",\"(6) Saturday\",\"(7) Sunday\",\"(4) Thursday\",\"(2) Tuesday\",\"(3) Wednesday\"]\n",
    "launched_deadline_df = launched_deadline_df.sort_index()\n",
    "\n",
    "launched_deadline_df[['success_perc','failed_perc']].plot(kind='bar', figsize=(10,5), title = \"Distribution of weekday launch for successful and failed campaigns\")"
   ]
  },
  {
   "cell_type": "markdown",
   "metadata": {},
   "source": [
    "### Distribution of projects in different categories\n",
    "\n",
    "From this analysis, we concluded that projects related to categories like :\n",
    "\n",
    "**(1) Film & Video**\n",
    "**(2) Technology**\n",
    "**(3) Music**\n",
    "**(4) Art** had high success rate."
   ]
  },
  {
   "cell_type": "code",
   "execution_count": 70,
   "metadata": {},
   "outputs": [
    {
     "data": {
      "image/png": "[encoded data removed]",
      "text/plain": [
       "<Figure size 720x720 with 1 Axes>"
      ]
     },
     "metadata": {},
     "output_type": "display_data"
    }
   ],
   "source": [
    "cleaned_kickstarter_data['catg.type'].value_counts().plot.pie(autopct='%.2f',figsize=(10,10))\n",
    "plt.title('Distribution of projects in different categories')\n",
    "plt.tight_layout()"
   ]
  },
  {
   "cell_type": "markdown",
   "metadata": {},
   "source": [
    "### Counts in campaigns from 2009 to 2018 grouped by month ( In graph plot)"
   ]
  },
  {
   "cell_type": "code",
   "execution_count": 75,
   "metadata": {},
   "outputs": [],
   "source": [
    "cleaned_kickstarter_data['count'] = 1"
   ]
  },
  {
   "cell_type": "code",
   "execution_count": 76,
   "metadata": {},
   "outputs": [
    {
     "data": {
      "image/png": "[encoded data removed]",
      "text/plain": [
       "<Figure size 864x288 with 1 Axes>"
      ]
     },
     "metadata": {},
     "output_type": "display_data"
    }
   ],
   "source": [
    "def plot_monthly_campaign_count(n):\n",
    "    \n",
    "    mth = cleaned_kickstarter_data[cleaned_kickstarter_data['launched_at_year'] == n]\n",
    "    mth_cnt = mth.groupby('launched_at_month').count()['count']\n",
    "    mth_cnt.plot(marker='o', markersize=5, alpha=.5, rot=90)\n",
    "\n",
    "fig = plt.figure(figsize=(12, 4))\n",
    "for i in range(2009, 2019):\n",
    "    plot_monthly_campaign_count(i)\n",
    "plt.ylabel('Number of Campaigns', fontsize=14)\n",
    "plt.xlabel('Month', fontsize=14)\n",
    "plt.legend(range(2009, 2018))\n",
    "plt.show()"
   ]
  },
  {
   "cell_type": "markdown",
   "metadata": {},
   "source": [
    "### Counts in campaigns from 2009 to 2018 grouped by month ( In tabular form)"
   ]
  },
  {
   "cell_type": "code",
   "execution_count": 78,
   "metadata": {},
   "outputs": [
    {
     "data": {
      "text/html": [
       "<div>\n",
       "<style scoped>\n",
       "    .dataframe tbody tr th:only-of-type {\n",
       "        vertical-align: middle;\n",
       "    }\n",
       "\n",
       "    .dataframe tbody tr th {\n",
       "        vertical-align: top;\n",
       "    }\n",
       "\n",
       "    .dataframe thead th {\n",
       "        text-align: right;\n",
       "    }\n",
       "</style>\n",
       "<table border=\"1\" class=\"dataframe\">\n",
       "  <thead>\n",
       "    <tr style=\"text-align: right;\">\n",
       "      <th>launched_at_year</th>\n",
       "      <th>2009</th>\n",
       "      <th>2010</th>\n",
       "      <th>2011</th>\n",
       "      <th>2012</th>\n",
       "      <th>2013</th>\n",
       "      <th>2014</th>\n",
       "      <th>2015</th>\n",
       "      <th>2016</th>\n",
       "      <th>2017</th>\n",
       "      <th>2018</th>\n",
       "    </tr>\n",
       "    <tr>\n",
       "      <th>launched_at_month</th>\n",
       "      <th></th>\n",
       "      <th></th>\n",
       "      <th></th>\n",
       "      <th></th>\n",
       "      <th></th>\n",
       "      <th></th>\n",
       "      <th></th>\n",
       "      <th></th>\n",
       "      <th></th>\n",
       "      <th></th>\n",
       "    </tr>\n",
       "  </thead>\n",
       "  <tbody>\n",
       "    <tr>\n",
       "      <th>1</th>\n",
       "      <td>0</td>\n",
       "      <td>205</td>\n",
       "      <td>1101</td>\n",
       "      <td>1331</td>\n",
       "      <td>1216</td>\n",
       "      <td>1044</td>\n",
       "      <td>3228</td>\n",
       "      <td>2065</td>\n",
       "      <td>1723</td>\n",
       "      <td>1399</td>\n",
       "    </tr>\n",
       "    <tr>\n",
       "      <th>2</th>\n",
       "      <td>0</td>\n",
       "      <td>254</td>\n",
       "      <td>965</td>\n",
       "      <td>1682</td>\n",
       "      <td>1280</td>\n",
       "      <td>1118</td>\n",
       "      <td>3726</td>\n",
       "      <td>2230</td>\n",
       "      <td>1620</td>\n",
       "      <td>1235</td>\n",
       "    </tr>\n",
       "    <tr>\n",
       "      <th>3</th>\n",
       "      <td>0</td>\n",
       "      <td>360</td>\n",
       "      <td>577</td>\n",
       "      <td>1925</td>\n",
       "      <td>1496</td>\n",
       "      <td>1264</td>\n",
       "      <td>3912</td>\n",
       "      <td>2246</td>\n",
       "      <td>2044</td>\n",
       "      <td>1392</td>\n",
       "    </tr>\n",
       "    <tr>\n",
       "      <th>4</th>\n",
       "      <td>11</td>\n",
       "      <td>428</td>\n",
       "      <td>972</td>\n",
       "      <td>1681</td>\n",
       "      <td>1553</td>\n",
       "      <td>1520</td>\n",
       "      <td>3627</td>\n",
       "      <td>2070</td>\n",
       "      <td>1604</td>\n",
       "      <td>1329</td>\n",
       "    </tr>\n",
       "    <tr>\n",
       "      <th>5</th>\n",
       "      <td>59</td>\n",
       "      <td>437</td>\n",
       "      <td>1004</td>\n",
       "      <td>1692</td>\n",
       "      <td>1548</td>\n",
       "      <td>2335</td>\n",
       "      <td>3188</td>\n",
       "      <td>2068</td>\n",
       "      <td>1729</td>\n",
       "      <td>1358</td>\n",
       "    </tr>\n",
       "    <tr>\n",
       "      <th>6</th>\n",
       "      <td>42</td>\n",
       "      <td>619</td>\n",
       "      <td>1045</td>\n",
       "      <td>1640</td>\n",
       "      <td>1322</td>\n",
       "      <td>2620</td>\n",
       "      <td>3114</td>\n",
       "      <td>1869</td>\n",
       "      <td>1624</td>\n",
       "      <td>1312</td>\n",
       "    </tr>\n",
       "    <tr>\n",
       "      <th>7</th>\n",
       "      <td>55</td>\n",
       "      <td>666</td>\n",
       "      <td>1078</td>\n",
       "      <td>1418</td>\n",
       "      <td>1324</td>\n",
       "      <td>5476</td>\n",
       "      <td>2653</td>\n",
       "      <td>1635</td>\n",
       "      <td>1533</td>\n",
       "      <td>1206</td>\n",
       "    </tr>\n",
       "    <tr>\n",
       "      <th>8</th>\n",
       "      <td>75</td>\n",
       "      <td>604</td>\n",
       "      <td>1142</td>\n",
       "      <td>1335</td>\n",
       "      <td>1214</td>\n",
       "      <td>4014</td>\n",
       "      <td>2416</td>\n",
       "      <td>1668</td>\n",
       "      <td>1597</td>\n",
       "      <td>1198</td>\n",
       "    </tr>\n",
       "    <tr>\n",
       "      <th>9</th>\n",
       "      <td>235</td>\n",
       "      <td>673</td>\n",
       "      <td>1016</td>\n",
       "      <td>1155</td>\n",
       "      <td>1207</td>\n",
       "      <td>3284</td>\n",
       "      <td>2446</td>\n",
       "      <td>1640</td>\n",
       "      <td>1575</td>\n",
       "      <td>1115</td>\n",
       "    </tr>\n",
       "    <tr>\n",
       "      <th>10</th>\n",
       "      <td>148</td>\n",
       "      <td>796</td>\n",
       "      <td>1136</td>\n",
       "      <td>1298</td>\n",
       "      <td>1315</td>\n",
       "      <td>3370</td>\n",
       "      <td>2409</td>\n",
       "      <td>1795</td>\n",
       "      <td>1703</td>\n",
       "      <td>644</td>\n",
       "    </tr>\n",
       "    <tr>\n",
       "      <th>11</th>\n",
       "      <td>175</td>\n",
       "      <td>911</td>\n",
       "      <td>1245</td>\n",
       "      <td>1166</td>\n",
       "      <td>1277</td>\n",
       "      <td>2952</td>\n",
       "      <td>2453</td>\n",
       "      <td>1854</td>\n",
       "      <td>1653</td>\n",
       "      <td>15</td>\n",
       "    </tr>\n",
       "    <tr>\n",
       "      <th>12</th>\n",
       "      <td>152</td>\n",
       "      <td>855</td>\n",
       "      <td>1012</td>\n",
       "      <td>861</td>\n",
       "      <td>928</td>\n",
       "      <td>2057</td>\n",
       "      <td>1599</td>\n",
       "      <td>1254</td>\n",
       "      <td>932</td>\n",
       "      <td>0</td>\n",
       "    </tr>\n",
       "  </tbody>\n",
       "</table>\n",
       "</div>"
      ],
      "text/plain": [
       "launched_at_year   2009  2010  2011  2012  2013  2014  2015  2016  2017  2018\n",
       "launched_at_month                                                            \n",
       "1                     0   205  1101  1331  1216  1044  3228  2065  1723  1399\n",
       "2                     0   254   965  1682  1280  1118  3726  2230  1620  1235\n",
       "3                     0   360   577  1925  1496  1264  3912  2246  2044  1392\n",
       "4                    11   428   972  1681  1553  1520  3627  2070  1604  1329\n",
       "5                    59   437  1004  1692  1548  2335  3188  2068  1729  1358\n",
       "6                    42   619  1045  1640  1322  2620  3114  1869  1624  1312\n",
       "7                    55   666  1078  1418  1324  5476  2653  1635  1533  1206\n",
       "8                    75   604  1142  1335  1214  4014  2416  1668  1597  1198\n",
       "9                   235   673  1016  1155  1207  3284  2446  1640  1575  1115\n",
       "10                  148   796  1136  1298  1315  3370  2409  1795  1703   644\n",
       "11                  175   911  1245  1166  1277  2952  2453  1854  1653    15\n",
       "12                  152   855  1012   861   928  2057  1599  1254   932     0"
      ]
     },
     "execution_count": 78,
     "metadata": {},
     "output_type": "execute_result"
    }
   ],
   "source": [
    "pd.crosstab(cleaned_kickstarter_data.launched_at_month, cleaned_kickstarter_data.launched_at_year)"
   ]
  },
  {
   "cell_type": "markdown",
   "metadata": {},
   "source": [
    "## Step 3 : EXPLORATORY DATA ANALYSIS"
   ]
  },
  {
   "cell_type": "markdown",
   "metadata": {},
   "source": [
    "### Target Variable: Success"
   ]
  },
  {
   "cell_type": "code",
   "execution_count": 79,
   "metadata": {},
   "outputs": [
    {
     "data": {
      "text/plain": [
       "Text(0.5,1,'Distribution of successful (1)/failed (0) projects')"
      ]
     },
     "execution_count": 79,
     "metadata": {},
     "output_type": "execute_result"
    },
    {
     "data": {
      "image/png": "[encoded data removed]",
      "text/plain": [
       "<Figure size 432x288 with 1 Axes>"
      ]
     },
     "metadata": {},
     "output_type": "display_data"
    }
   ],
   "source": [
    "cleaned_kickstarter_data['state'].value_counts().plot.pie(autopct='%.2f')\n",
    "plt.title('Distribution of successful (1)/failed (0) projects')"
   ]
  },
  {
   "cell_type": "code",
   "execution_count": 80,
   "metadata": {},
   "outputs": [
    {
     "name": "stdout",
     "output_type": "stream",
     "text": [
      "97804  successful campaigns\n",
      "74872  failed campaigns\n",
      "0  cancelled campaigns\n"
     ]
    }
   ],
   "source": [
    "successful_kickstarter = cleaned_kickstarter_data[cleaned_kickstarter_data['state'] == \"successful\"]\n",
    "failed_kickstarter = cleaned_kickstarter_data[cleaned_kickstarter_data['state'] == \"failed\"]\n",
    "cancelled_kickstarter = cleaned_kickstarter_data[cleaned_kickstarter_data['state'] == \"canceled\"]\n",
    "\n",
    "print(len(successful_kickstarter),\" successful campaigns\")\n",
    "print(len(failed_kickstarter),\" failed campaigns\")\n",
    "print(len(cancelled_kickstarter),\" cancelled campaigns\")"
   ]
  },
  {
   "cell_type": "markdown",
   "metadata": {},
   "source": [
    "### What failure rate does a goal above 50K have?"
   ]
  },
  {
   "cell_type": "code",
   "execution_count": 81,
   "metadata": {},
   "outputs": [
    {
     "name": "stdout",
     "output_type": "stream",
     "text": [
      "Number of successful kickstarters with goal over 50k: 3921\n",
      "Number of successful kickstarters with goal under 50k: 93883\n",
      "Number of failed kickstarters with goal over 50k: 11049\n",
      "Number of failed kickstarters with goal over 50k: 63823\n",
      "Success mean: 3500.0\n",
      "Failed mean: 7000.0\n"
     ]
    }
   ],
   "source": [
    "print(\"Number of successful kickstarters with goal over 50k:\", len(successful_kickstarter[successful_kickstarter['goal'] >= 50000]))\n",
    "print(\"Number of successful kickstarters with goal under 50k:\", len(successful_kickstarter[successful_kickstarter['goal'] < 50000]))\n",
    "print(\"Number of failed kickstarters with goal over 50k:\", len(failed_kickstarter[failed_kickstarter['goal'] >= 50000]))\n",
    "print(\"Number of failed kickstarters with goal over 50k:\", len(failed_kickstarter[failed_kickstarter['goal'] < 50000]))\n",
    "\n",
    "print(\"Success mean:\", successful_kickstarter['goal'].median())\n",
    "print(\"Failed mean:\", failed_kickstarter['goal'].median())"
   ]
  },
  {
   "cell_type": "markdown",
   "metadata": {},
   "source": [
    "### What percentage of successful campaigns are \"staff picks\" vs failed/cancelled campagins?"
   ]
  },
  {
   "cell_type": "code",
   "execution_count": 82,
   "metadata": {},
   "outputs": [
    {
     "name": "stdout",
     "output_type": "stream",
     "text": [
      "Successful campaigns % staff picks\n",
      "0.002148173898818044\n",
      "21010\n",
      "Failed campaigns % staff picks\n",
      "0.0003464579549097126\n",
      "2594\n"
     ]
    }
   ],
   "source": [
    "print(\"Successful campaigns % staff picks\")\n",
    "print(len(successful_kickstarter[successful_kickstarter['staff_pick'] == 1])/(float(len(successful_kickstarter))*100))\n",
    "print(len(successful_kickstarter[successful_kickstarter['staff_pick'] == 1]))\n",
    "\n",
    "print(\"Failed campaigns % staff picks\")\n",
    "print(len(failed_kickstarter[failed_kickstarter['staff_pick'] == 1])/(float(len(failed_kickstarter))*100))\n",
    "print(len(failed_kickstarter[failed_kickstarter['staff_pick'] == 1]))"
   ]
  },
  {
   "cell_type": "markdown",
   "metadata": {},
   "source": [
    "### Build a correlation matrix to help identify variables"
   ]
  },
  {
   "cell_type": "code",
   "execution_count": 83,
   "metadata": {},
   "outputs": [
    {
     "data": {
      "text/html": [
       "<div>\n",
       "<style scoped>\n",
       "    .dataframe tbody tr th:only-of-type {\n",
       "        vertical-align: middle;\n",
       "    }\n",
       "\n",
       "    .dataframe tbody tr th {\n",
       "        vertical-align: top;\n",
       "    }\n",
       "\n",
       "    .dataframe thead th {\n",
       "        text-align: right;\n",
       "    }\n",
       "</style>\n",
       "<table border=\"1\" class=\"dataframe\">\n",
       "  <thead>\n",
       "    <tr style=\"text-align: right;\">\n",
       "      <th></th>\n",
       "      <th>backers_count</th>\n",
       "      <th>goal</th>\n",
       "      <th>spotlight</th>\n",
       "      <th>staff_pick</th>\n",
       "      <th>usd_pledged</th>\n",
       "      <th>category.id</th>\n",
       "      <th>category.parent_id</th>\n",
       "      <th>blurb_len_clean</th>\n",
       "      <th>state_num</th>\n",
       "      <th>launched_at_hr</th>\n",
       "      <th>...</th>\n",
       "      <th>deadline_month</th>\n",
       "      <th>deadline_year</th>\n",
       "      <th>created_at_hr</th>\n",
       "      <th>created_at_day</th>\n",
       "      <th>created_at_month</th>\n",
       "      <th>created_at_year</th>\n",
       "      <th>launched-created</th>\n",
       "      <th>deadline_launched</th>\n",
       "      <th>deadline-launched</th>\n",
       "      <th>count</th>\n",
       "    </tr>\n",
       "  </thead>\n",
       "  <tbody>\n",
       "    <tr>\n",
       "      <th>backers_count</th>\n",
       "      <td>1.000000</td>\n",
       "      <td>0.010781</td>\n",
       "      <td>0.110821</td>\n",
       "      <td>0.151291</td>\n",
       "      <td>0.811963</td>\n",
       "      <td>-0.041442</td>\n",
       "      <td>0.006362</td>\n",
       "      <td>0.000771</td>\n",
       "      <td>0.110821</td>\n",
       "      <td>-0.004417</td>\n",
       "      <td>...</td>\n",
       "      <td>-0.002154</td>\n",
       "      <td>-0.019821</td>\n",
       "      <td>0.002640</td>\n",
       "      <td>-0.005334</td>\n",
       "      <td>-0.007671</td>\n",
       "      <td>-0.022357</td>\n",
       "      <td>0.022834</td>\n",
       "      <td>0.005116</td>\n",
       "      <td>0.005116</td>\n",
       "      <td>NaN</td>\n",
       "    </tr>\n",
       "    <tr>\n",
       "      <th>goal</th>\n",
       "      <td>0.010781</td>\n",
       "      <td>1.000000</td>\n",
       "      <td>-0.033658</td>\n",
       "      <td>-0.005829</td>\n",
       "      <td>0.011811</td>\n",
       "      <td>0.021537</td>\n",
       "      <td>0.002359</td>\n",
       "      <td>-0.004355</td>\n",
       "      <td>-0.033658</td>\n",
       "      <td>0.001280</td>\n",
       "      <td>...</td>\n",
       "      <td>-0.001130</td>\n",
       "      <td>0.016962</td>\n",
       "      <td>-0.002370</td>\n",
       "      <td>0.008476</td>\n",
       "      <td>0.002557</td>\n",
       "      <td>0.015672</td>\n",
       "      <td>0.002367</td>\n",
       "      <td>0.024570</td>\n",
       "      <td>0.024570</td>\n",
       "      <td>NaN</td>\n",
       "    </tr>\n",
       "    <tr>\n",
       "      <th>spotlight</th>\n",
       "      <td>0.110821</td>\n",
       "      <td>-0.033658</td>\n",
       "      <td>1.000000</td>\n",
       "      <td>0.259916</td>\n",
       "      <td>0.104550</td>\n",
       "      <td>-0.338288</td>\n",
       "      <td>-0.052189</td>\n",
       "      <td>0.025406</td>\n",
       "      <td>1.000000</td>\n",
       "      <td>-0.015345</td>\n",
       "      <td>...</td>\n",
       "      <td>-0.010299</td>\n",
       "      <td>-0.188444</td>\n",
       "      <td>0.019427</td>\n",
       "      <td>-0.021518</td>\n",
       "      <td>-0.021912</td>\n",
       "      <td>-0.187711</td>\n",
       "      <td>0.019175</td>\n",
       "      <td>-0.084781</td>\n",
       "      <td>-0.084781</td>\n",
       "      <td>NaN</td>\n",
       "    </tr>\n",
       "    <tr>\n",
       "      <th>staff_pick</th>\n",
       "      <td>0.151291</td>\n",
       "      <td>-0.005829</td>\n",
       "      <td>0.259916</td>\n",
       "      <td>1.000000</td>\n",
       "      <td>0.143109</td>\n",
       "      <td>-0.058175</td>\n",
       "      <td>-0.024069</td>\n",
       "      <td>0.025416</td>\n",
       "      <td>0.259916</td>\n",
       "      <td>-0.005850</td>\n",
       "      <td>...</td>\n",
       "      <td>0.016901</td>\n",
       "      <td>-0.060545</td>\n",
       "      <td>0.015081</td>\n",
       "      <td>-0.014295</td>\n",
       "      <td>0.007524</td>\n",
       "      <td>-0.066108</td>\n",
       "      <td>0.050205</td>\n",
       "      <td>-0.007480</td>\n",
       "      <td>-0.007480</td>\n",
       "      <td>NaN</td>\n",
       "    </tr>\n",
       "    <tr>\n",
       "      <th>usd_pledged</th>\n",
       "      <td>0.811963</td>\n",
       "      <td>0.011811</td>\n",
       "      <td>0.104550</td>\n",
       "      <td>0.143109</td>\n",
       "      <td>1.000000</td>\n",
       "      <td>-0.017646</td>\n",
       "      <td>0.017156</td>\n",
       "      <td>0.007266</td>\n",
       "      <td>0.104550</td>\n",
       "      <td>-0.005189</td>\n",
       "      <td>...</td>\n",
       "      <td>-0.000445</td>\n",
       "      <td>-0.007795</td>\n",
       "      <td>0.001301</td>\n",
       "      <td>-0.009225</td>\n",
       "      <td>-0.007128</td>\n",
       "      <td>-0.010589</td>\n",
       "      <td>0.023991</td>\n",
       "      <td>0.016790</td>\n",
       "      <td>0.016790</td>\n",
       "      <td>NaN</td>\n",
       "    </tr>\n",
       "    <tr>\n",
       "      <th>category.id</th>\n",
       "      <td>-0.041442</td>\n",
       "      <td>0.021537</td>\n",
       "      <td>-0.338288</td>\n",
       "      <td>-0.058175</td>\n",
       "      <td>-0.017646</td>\n",
       "      <td>1.000000</td>\n",
       "      <td>0.216258</td>\n",
       "      <td>-0.010152</td>\n",
       "      <td>-0.338288</td>\n",
       "      <td>0.014139</td>\n",
       "      <td>...</td>\n",
       "      <td>0.036682</td>\n",
       "      <td>0.529084</td>\n",
       "      <td>-0.008273</td>\n",
       "      <td>0.011660</td>\n",
       "      <td>0.013355</td>\n",
       "      <td>0.527439</td>\n",
       "      <td>0.024004</td>\n",
       "      <td>-0.051975</td>\n",
       "      <td>-0.051975</td>\n",
       "      <td>NaN</td>\n",
       "    </tr>\n",
       "    <tr>\n",
       "      <th>category.parent_id</th>\n",
       "      <td>0.006362</td>\n",
       "      <td>0.002359</td>\n",
       "      <td>-0.052189</td>\n",
       "      <td>-0.024069</td>\n",
       "      <td>0.017156</td>\n",
       "      <td>0.216258</td>\n",
       "      <td>1.000000</td>\n",
       "      <td>0.016830</td>\n",
       "      <td>-0.052189</td>\n",
       "      <td>-0.000462</td>\n",
       "      <td>...</td>\n",
       "      <td>0.000992</td>\n",
       "      <td>0.029139</td>\n",
       "      <td>-0.005603</td>\n",
       "      <td>0.005080</td>\n",
       "      <td>0.013138</td>\n",
       "      <td>0.026351</td>\n",
       "      <td>0.004155</td>\n",
       "      <td>0.032037</td>\n",
       "      <td>0.032037</td>\n",
       "      <td>NaN</td>\n",
       "    </tr>\n",
       "    <tr>\n",
       "      <th>blurb_len_clean</th>\n",
       "      <td>0.000771</td>\n",
       "      <td>-0.004355</td>\n",
       "      <td>0.025406</td>\n",
       "      <td>0.025416</td>\n",
       "      <td>0.007266</td>\n",
       "      <td>-0.010152</td>\n",
       "      <td>0.016830</td>\n",
       "      <td>1.000000</td>\n",
       "      <td>0.025406</td>\n",
       "      <td>-0.012134</td>\n",
       "      <td>...</td>\n",
       "      <td>-0.008336</td>\n",
       "      <td>-0.066819</td>\n",
       "      <td>0.004452</td>\n",
       "      <td>-0.003927</td>\n",
       "      <td>-0.002183</td>\n",
       "      <td>-0.068883</td>\n",
       "      <td>0.004384</td>\n",
       "      <td>0.049142</td>\n",
       "      <td>0.049142</td>\n",
       "      <td>NaN</td>\n",
       "    </tr>\n",
       "    <tr>\n",
       "      <th>state_num</th>\n",
       "      <td>0.110821</td>\n",
       "      <td>-0.033658</td>\n",
       "      <td>1.000000</td>\n",
       "      <td>0.259916</td>\n",
       "      <td>0.104550</td>\n",
       "      <td>-0.338288</td>\n",
       "      <td>-0.052189</td>\n",
       "      <td>0.025406</td>\n",
       "      <td>1.000000</td>\n",
       "      <td>-0.015345</td>\n",
       "      <td>...</td>\n",
       "      <td>-0.010299</td>\n",
       "      <td>-0.188444</td>\n",
       "      <td>0.019427</td>\n",
       "      <td>-0.021518</td>\n",
       "      <td>-0.021912</td>\n",
       "      <td>-0.187711</td>\n",
       "      <td>0.019175</td>\n",
       "      <td>-0.084781</td>\n",
       "      <td>-0.084781</td>\n",
       "      <td>NaN</td>\n",
       "    </tr>\n",
       "    <tr>\n",
       "      <th>launched_at_hr</th>\n",
       "      <td>-0.004417</td>\n",
       "      <td>0.001280</td>\n",
       "      <td>-0.015345</td>\n",
       "      <td>-0.005850</td>\n",
       "      <td>-0.005189</td>\n",
       "      <td>0.014139</td>\n",
       "      <td>-0.000462</td>\n",
       "      <td>-0.012134</td>\n",
       "      <td>-0.015345</td>\n",
       "      <td>1.000000</td>\n",
       "      <td>...</td>\n",
       "      <td>0.009604</td>\n",
       "      <td>0.012791</td>\n",
       "      <td>0.100385</td>\n",
       "      <td>-0.011270</td>\n",
       "      <td>0.005577</td>\n",
       "      <td>0.015401</td>\n",
       "      <td>-0.009824</td>\n",
       "      <td>-0.022821</td>\n",
       "      <td>-0.022821</td>\n",
       "      <td>NaN</td>\n",
       "    </tr>\n",
       "    <tr>\n",
       "      <th>launched_at_day</th>\n",
       "      <td>-0.024352</td>\n",
       "      <td>-0.000924</td>\n",
       "      <td>-0.010569</td>\n",
       "      <td>-0.038686</td>\n",
       "      <td>-0.026993</td>\n",
       "      <td>-0.015719</td>\n",
       "      <td>-0.004243</td>\n",
       "      <td>0.005098</td>\n",
       "      <td>-0.010569</td>\n",
       "      <td>-0.081284</td>\n",
       "      <td>...</td>\n",
       "      <td>-0.022363</td>\n",
       "      <td>-0.013160</td>\n",
       "      <td>-0.011869</td>\n",
       "      <td>0.073346</td>\n",
       "      <td>-0.006855</td>\n",
       "      <td>-0.013776</td>\n",
       "      <td>-0.011157</td>\n",
       "      <td>0.014919</td>\n",
       "      <td>0.014919</td>\n",
       "      <td>NaN</td>\n",
       "    </tr>\n",
       "    <tr>\n",
       "      <th>launched_at_month</th>\n",
       "      <td>-0.005453</td>\n",
       "      <td>0.002664</td>\n",
       "      <td>-0.015984</td>\n",
       "      <td>0.014854</td>\n",
       "      <td>-0.002751</td>\n",
       "      <td>0.022158</td>\n",
       "      <td>0.008115</td>\n",
       "      <td>-0.005639</td>\n",
       "      <td>-0.015984</td>\n",
       "      <td>0.004941</td>\n",
       "      <td>...</td>\n",
       "      <td>0.602115</td>\n",
       "      <td>-0.076270</td>\n",
       "      <td>0.001942</td>\n",
       "      <td>-0.015325</td>\n",
       "      <td>0.685992</td>\n",
       "      <td>-0.088358</td>\n",
       "      <td>0.006700</td>\n",
       "      <td>0.005188</td>\n",
       "      <td>0.005188</td>\n",
       "      <td>NaN</td>\n",
       "    </tr>\n",
       "    <tr>\n",
       "      <th>launched_at_year</th>\n",
       "      <td>-0.019372</td>\n",
       "      <td>0.015971</td>\n",
       "      <td>-0.185373</td>\n",
       "      <td>-0.059865</td>\n",
       "      <td>-0.007731</td>\n",
       "      <td>0.528839</td>\n",
       "      <td>0.027527</td>\n",
       "      <td>-0.067607</td>\n",
       "      <td>-0.185373</td>\n",
       "      <td>0.013716</td>\n",
       "      <td>...</td>\n",
       "      <td>-0.051286</td>\n",
       "      <td>0.993262</td>\n",
       "      <td>-0.008207</td>\n",
       "      <td>0.022002</td>\n",
       "      <td>-0.096489</td>\n",
       "      <td>0.984975</td>\n",
       "      <td>0.090556</td>\n",
       "      <td>-0.169784</td>\n",
       "      <td>-0.169784</td>\n",
       "      <td>NaN</td>\n",
       "    </tr>\n",
       "    <tr>\n",
       "      <th>deadline_hr</th>\n",
       "      <td>-0.014658</td>\n",
       "      <td>0.002499</td>\n",
       "      <td>-0.071031</td>\n",
       "      <td>-0.031894</td>\n",
       "      <td>-0.012123</td>\n",
       "      <td>0.050937</td>\n",
       "      <td>0.010036</td>\n",
       "      <td>-0.022507</td>\n",
       "      <td>-0.071031</td>\n",
       "      <td>0.663045</td>\n",
       "      <td>...</td>\n",
       "      <td>-0.000744</td>\n",
       "      <td>0.055658</td>\n",
       "      <td>0.114331</td>\n",
       "      <td>-0.002205</td>\n",
       "      <td>-0.007859</td>\n",
       "      <td>0.058895</td>\n",
       "      <td>-0.010657</td>\n",
       "      <td>-0.004416</td>\n",
       "      <td>-0.004416</td>\n",
       "      <td>NaN</td>\n",
       "    </tr>\n",
       "    <tr>\n",
       "      <th>deadline_day</th>\n",
       "      <td>0.002329</td>\n",
       "      <td>-0.001994</td>\n",
       "      <td>-0.023089</td>\n",
       "      <td>-0.011300</td>\n",
       "      <td>0.002434</td>\n",
       "      <td>0.006917</td>\n",
       "      <td>0.007917</td>\n",
       "      <td>-0.000611</td>\n",
       "      <td>-0.023089</td>\n",
       "      <td>0.006813</td>\n",
       "      <td>...</td>\n",
       "      <td>-0.003563</td>\n",
       "      <td>0.001041</td>\n",
       "      <td>0.002239</td>\n",
       "      <td>-0.032844</td>\n",
       "      <td>-0.003162</td>\n",
       "      <td>0.001299</td>\n",
       "      <td>-0.002762</td>\n",
       "      <td>0.008264</td>\n",
       "      <td>0.008264</td>\n",
       "      <td>NaN</td>\n",
       "    </tr>\n",
       "    <tr>\n",
       "      <th>deadline_month</th>\n",
       "      <td>-0.002154</td>\n",
       "      <td>-0.001130</td>\n",
       "      <td>-0.010299</td>\n",
       "      <td>0.016901</td>\n",
       "      <td>-0.000445</td>\n",
       "      <td>0.036682</td>\n",
       "      <td>0.000992</td>\n",
       "      <td>-0.008336</td>\n",
       "      <td>-0.010299</td>\n",
       "      <td>0.009604</td>\n",
       "      <td>...</td>\n",
       "      <td>1.000000</td>\n",
       "      <td>-0.103233</td>\n",
       "      <td>0.013321</td>\n",
       "      <td>-0.008109</td>\n",
       "      <td>0.355107</td>\n",
       "      <td>-0.022623</td>\n",
       "      <td>0.017834</td>\n",
       "      <td>-0.022508</td>\n",
       "      <td>-0.022508</td>\n",
       "      <td>NaN</td>\n",
       "    </tr>\n",
       "    <tr>\n",
       "      <th>deadline_year</th>\n",
       "      <td>-0.019821</td>\n",
       "      <td>0.016962</td>\n",
       "      <td>-0.188444</td>\n",
       "      <td>-0.060545</td>\n",
       "      <td>-0.007795</td>\n",
       "      <td>0.529084</td>\n",
       "      <td>0.029139</td>\n",
       "      <td>-0.066819</td>\n",
       "      <td>-0.188444</td>\n",
       "      <td>0.012791</td>\n",
       "      <td>...</td>\n",
       "      <td>-0.103233</td>\n",
       "      <td>1.000000</td>\n",
       "      <td>-0.009815</td>\n",
       "      <td>0.021137</td>\n",
       "      <td>-0.054418</td>\n",
       "      <td>0.979309</td>\n",
       "      <td>0.089777</td>\n",
       "      <td>-0.150868</td>\n",
       "      <td>-0.150868</td>\n",
       "      <td>NaN</td>\n",
       "    </tr>\n",
       "    <tr>\n",
       "      <th>created_at_hr</th>\n",
       "      <td>0.002640</td>\n",
       "      <td>-0.002370</td>\n",
       "      <td>0.019427</td>\n",
       "      <td>0.015081</td>\n",
       "      <td>0.001301</td>\n",
       "      <td>-0.008273</td>\n",
       "      <td>-0.005603</td>\n",
       "      <td>0.004452</td>\n",
       "      <td>0.019427</td>\n",
       "      <td>0.100385</td>\n",
       "      <td>...</td>\n",
       "      <td>0.013321</td>\n",
       "      <td>-0.009815</td>\n",
       "      <td>1.000000</td>\n",
       "      <td>-0.018999</td>\n",
       "      <td>-0.004695</td>\n",
       "      <td>-0.007809</td>\n",
       "      <td>0.000464</td>\n",
       "      <td>-0.001758</td>\n",
       "      <td>-0.001758</td>\n",
       "      <td>NaN</td>\n",
       "    </tr>\n",
       "    <tr>\n",
       "      <th>created_at_day</th>\n",
       "      <td>-0.005334</td>\n",
       "      <td>0.008476</td>\n",
       "      <td>-0.021518</td>\n",
       "      <td>-0.014295</td>\n",
       "      <td>-0.009225</td>\n",
       "      <td>0.011660</td>\n",
       "      <td>0.005080</td>\n",
       "      <td>-0.003927</td>\n",
       "      <td>-0.021518</td>\n",
       "      <td>-0.011270</td>\n",
       "      <td>...</td>\n",
       "      <td>-0.008109</td>\n",
       "      <td>0.021137</td>\n",
       "      <td>-0.018999</td>\n",
       "      <td>1.000000</td>\n",
       "      <td>-0.015749</td>\n",
       "      <td>0.022540</td>\n",
       "      <td>-0.003263</td>\n",
       "      <td>-0.002782</td>\n",
       "      <td>-0.002782</td>\n",
       "      <td>NaN</td>\n",
       "    </tr>\n",
       "    <tr>\n",
       "      <th>created_at_month</th>\n",
       "      <td>-0.007671</td>\n",
       "      <td>0.002557</td>\n",
       "      <td>-0.021912</td>\n",
       "      <td>0.007524</td>\n",
       "      <td>-0.007128</td>\n",
       "      <td>0.013355</td>\n",
       "      <td>0.013138</td>\n",
       "      <td>-0.002183</td>\n",
       "      <td>-0.021912</td>\n",
       "      <td>0.005577</td>\n",
       "      <td>...</td>\n",
       "      <td>0.355107</td>\n",
       "      <td>-0.054418</td>\n",
       "      <td>-0.004695</td>\n",
       "      <td>-0.015749</td>\n",
       "      <td>1.000000</td>\n",
       "      <td>-0.138821</td>\n",
       "      <td>0.006027</td>\n",
       "      <td>0.015475</td>\n",
       "      <td>0.015475</td>\n",
       "      <td>NaN</td>\n",
       "    </tr>\n",
       "    <tr>\n",
       "      <th>created_at_year</th>\n",
       "      <td>-0.022357</td>\n",
       "      <td>0.015672</td>\n",
       "      <td>-0.187711</td>\n",
       "      <td>-0.066108</td>\n",
       "      <td>-0.010589</td>\n",
       "      <td>0.527439</td>\n",
       "      <td>0.026351</td>\n",
       "      <td>-0.068883</td>\n",
       "      <td>-0.187711</td>\n",
       "      <td>0.015401</td>\n",
       "      <td>...</td>\n",
       "      <td>-0.022623</td>\n",
       "      <td>0.979309</td>\n",
       "      <td>-0.007809</td>\n",
       "      <td>0.022540</td>\n",
       "      <td>-0.138821</td>\n",
       "      <td>1.000000</td>\n",
       "      <td>-0.049323</td>\n",
       "      <td>-0.172707</td>\n",
       "      <td>-0.172707</td>\n",
       "      <td>NaN</td>\n",
       "    </tr>\n",
       "    <tr>\n",
       "      <th>launched-created</th>\n",
       "      <td>0.022834</td>\n",
       "      <td>0.002367</td>\n",
       "      <td>0.019175</td>\n",
       "      <td>0.050205</td>\n",
       "      <td>0.023991</td>\n",
       "      <td>0.024004</td>\n",
       "      <td>0.004155</td>\n",
       "      <td>0.004384</td>\n",
       "      <td>0.019175</td>\n",
       "      <td>-0.009824</td>\n",
       "      <td>...</td>\n",
       "      <td>0.017834</td>\n",
       "      <td>0.089777</td>\n",
       "      <td>0.000464</td>\n",
       "      <td>-0.003263</td>\n",
       "      <td>0.006027</td>\n",
       "      <td>-0.049323</td>\n",
       "      <td>1.000000</td>\n",
       "      <td>0.009779</td>\n",
       "      <td>0.009779</td>\n",
       "      <td>NaN</td>\n",
       "    </tr>\n",
       "    <tr>\n",
       "      <th>deadline_launched</th>\n",
       "      <td>0.005116</td>\n",
       "      <td>0.024570</td>\n",
       "      <td>-0.084781</td>\n",
       "      <td>-0.007480</td>\n",
       "      <td>0.016790</td>\n",
       "      <td>-0.051975</td>\n",
       "      <td>0.032037</td>\n",
       "      <td>0.049142</td>\n",
       "      <td>-0.084781</td>\n",
       "      <td>-0.022821</td>\n",
       "      <td>...</td>\n",
       "      <td>-0.022508</td>\n",
       "      <td>-0.150868</td>\n",
       "      <td>-0.001758</td>\n",
       "      <td>-0.002782</td>\n",
       "      <td>0.015475</td>\n",
       "      <td>-0.172707</td>\n",
       "      <td>0.009779</td>\n",
       "      <td>1.000000</td>\n",
       "      <td>1.000000</td>\n",
       "      <td>NaN</td>\n",
       "    </tr>\n",
       "    <tr>\n",
       "      <th>deadline-launched</th>\n",
       "      <td>0.005116</td>\n",
       "      <td>0.024570</td>\n",
       "      <td>-0.084781</td>\n",
       "      <td>-0.007480</td>\n",
       "      <td>0.016790</td>\n",
       "      <td>-0.051975</td>\n",
       "      <td>0.032037</td>\n",
       "      <td>0.049142</td>\n",
       "      <td>-0.084781</td>\n",
       "      <td>-0.022821</td>\n",
       "      <td>...</td>\n",
       "      <td>-0.022508</td>\n",
       "      <td>-0.150868</td>\n",
       "      <td>-0.001758</td>\n",
       "      <td>-0.002782</td>\n",
       "      <td>0.015475</td>\n",
       "      <td>-0.172707</td>\n",
       "      <td>0.009779</td>\n",
       "      <td>1.000000</td>\n",
       "      <td>1.000000</td>\n",
       "      <td>NaN</td>\n",
       "    </tr>\n",
       "    <tr>\n",
       "      <th>count</th>\n",
       "      <td>NaN</td>\n",
       "      <td>NaN</td>\n",
       "      <td>NaN</td>\n",
       "      <td>NaN</td>\n",
       "      <td>NaN</td>\n",
       "      <td>NaN</td>\n",
       "      <td>NaN</td>\n",
       "      <td>NaN</td>\n",
       "      <td>NaN</td>\n",
       "      <td>NaN</td>\n",
       "      <td>...</td>\n",
       "      <td>NaN</td>\n",
       "      <td>NaN</td>\n",
       "      <td>NaN</td>\n",
       "      <td>NaN</td>\n",
       "      <td>NaN</td>\n",
       "      <td>NaN</td>\n",
       "      <td>NaN</td>\n",
       "      <td>NaN</td>\n",
       "      <td>NaN</td>\n",
       "      <td>NaN</td>\n",
       "    </tr>\n",
       "  </tbody>\n",
       "</table>\n",
       "<p>25 rows × 25 columns</p>\n",
       "</div>"
      ],
      "text/plain": [
       "                    backers_count      goal  spotlight  staff_pick  \\\n",
       "backers_count            1.000000  0.010781   0.110821    0.151291   \n",
       "goal                     0.010781  1.000000  -0.033658   -0.005829   \n",
       "spotlight                0.110821 -0.033658   1.000000    0.259916   \n",
       "staff_pick               0.151291 -0.005829   0.259916    1.000000   \n",
       "usd_pledged              0.811963  0.011811   0.104550    0.143109   \n",
       "category.id             -0.041442  0.021537  -0.338288   -0.058175   \n",
       "category.parent_id       0.006362  0.002359  -0.052189   -0.024069   \n",
       "blurb_len_clean          0.000771 -0.004355   0.025406    0.025416   \n",
       "state_num                0.110821 -0.033658   1.000000    0.259916   \n",
       "launched_at_hr          -0.004417  0.001280  -0.015345   -0.005850   \n",
       "launched_at_day         -0.024352 -0.000924  -0.010569   -0.038686   \n",
       "launched_at_month       -0.005453  0.002664  -0.015984    0.014854   \n",
       "launched_at_year        -0.019372  0.015971  -0.185373   -0.059865   \n",
       "deadline_hr             -0.014658  0.002499  -0.071031   -0.031894   \n",
       "deadline_day             0.002329 -0.001994  -0.023089   -0.011300   \n",
       "deadline_month          -0.002154 -0.001130  -0.010299    0.016901   \n",
       "deadline_year           -0.019821  0.016962  -0.188444   -0.060545   \n",
       "created_at_hr            0.002640 -0.002370   0.019427    0.015081   \n",
       "created_at_day          -0.005334  0.008476  -0.021518   -0.014295   \n",
       "created_at_month        -0.007671  0.002557  -0.021912    0.007524   \n",
       "created_at_year         -0.022357  0.015672  -0.187711   -0.066108   \n",
       "launched-created         0.022834  0.002367   0.019175    0.050205   \n",
       "deadline_launched        0.005116  0.024570  -0.084781   -0.007480   \n",
       "deadline-launched        0.005116  0.024570  -0.084781   -0.007480   \n",
       "count                         NaN       NaN        NaN         NaN   \n",
       "\n",
       "                    usd_pledged  category.id  category.parent_id  \\\n",
       "backers_count          0.811963    -0.041442            0.006362   \n",
       "goal                   0.011811     0.021537            0.002359   \n",
       "spotlight              0.104550    -0.338288           -0.052189   \n",
       "staff_pick             0.143109    -0.058175           -0.024069   \n",
       "usd_pledged            1.000000    -0.017646            0.017156   \n",
       "category.id           -0.017646     1.000000            0.216258   \n",
       "category.parent_id     0.017156     0.216258            1.000000   \n",
       "blurb_len_clean        0.007266    -0.010152            0.016830   \n",
       "state_num              0.104550    -0.338288           -0.052189   \n",
       "launched_at_hr        -0.005189     0.014139           -0.000462   \n",
       "launched_at_day       -0.026993    -0.015719           -0.004243   \n",
       "launched_at_month     -0.002751     0.022158            0.008115   \n",
       "launched_at_year      -0.007731     0.528839            0.027527   \n",
       "deadline_hr           -0.012123     0.050937            0.010036   \n",
       "deadline_day           0.002434     0.006917            0.007917   \n",
       "deadline_month        -0.000445     0.036682            0.000992   \n",
       "deadline_year         -0.007795     0.529084            0.029139   \n",
       "created_at_hr          0.001301    -0.008273           -0.005603   \n",
       "created_at_day        -0.009225     0.011660            0.005080   \n",
       "created_at_month      -0.007128     0.013355            0.013138   \n",
       "created_at_year       -0.010589     0.527439            0.026351   \n",
       "launched-created       0.023991     0.024004            0.004155   \n",
       "deadline_launched      0.016790    -0.051975            0.032037   \n",
       "deadline-launched      0.016790    -0.051975            0.032037   \n",
       "count                       NaN          NaN                 NaN   \n",
       "\n",
       "                    blurb_len_clean  state_num  launched_at_hr  ...    \\\n",
       "backers_count              0.000771   0.110821       -0.004417  ...     \n",
       "goal                      -0.004355  -0.033658        0.001280  ...     \n",
       "spotlight                  0.025406   1.000000       -0.015345  ...     \n",
       "staff_pick                 0.025416   0.259916       -0.005850  ...     \n",
       "usd_pledged                0.007266   0.104550       -0.005189  ...     \n",
       "category.id               -0.010152  -0.338288        0.014139  ...     \n",
       "category.parent_id         0.016830  -0.052189       -0.000462  ...     \n",
       "blurb_len_clean            1.000000   0.025406       -0.012134  ...     \n",
       "state_num                  0.025406   1.000000       -0.015345  ...     \n",
       "launched_at_hr            -0.012134  -0.015345        1.000000  ...     \n",
       "launched_at_day            0.005098  -0.010569       -0.081284  ...     \n",
       "launched_at_month         -0.005639  -0.015984        0.004941  ...     \n",
       "launched_at_year          -0.067607  -0.185373        0.013716  ...     \n",
       "deadline_hr               -0.022507  -0.071031        0.663045  ...     \n",
       "deadline_day              -0.000611  -0.023089        0.006813  ...     \n",
       "deadline_month            -0.008336  -0.010299        0.009604  ...     \n",
       "deadline_year             -0.066819  -0.188444        0.012791  ...     \n",
       "created_at_hr              0.004452   0.019427        0.100385  ...     \n",
       "created_at_day            -0.003927  -0.021518       -0.011270  ...     \n",
       "created_at_month          -0.002183  -0.021912        0.005577  ...     \n",
       "created_at_year           -0.068883  -0.187711        0.015401  ...     \n",
       "launched-created           0.004384   0.019175       -0.009824  ...     \n",
       "deadline_launched          0.049142  -0.084781       -0.022821  ...     \n",
       "deadline-launched          0.049142  -0.084781       -0.022821  ...     \n",
       "count                           NaN        NaN             NaN  ...     \n",
       "\n",
       "                    deadline_month  deadline_year  created_at_hr  \\\n",
       "backers_count            -0.002154      -0.019821       0.002640   \n",
       "goal                     -0.001130       0.016962      -0.002370   \n",
       "spotlight                -0.010299      -0.188444       0.019427   \n",
       "staff_pick                0.016901      -0.060545       0.015081   \n",
       "usd_pledged              -0.000445      -0.007795       0.001301   \n",
       "category.id               0.036682       0.529084      -0.008273   \n",
       "category.parent_id        0.000992       0.029139      -0.005603   \n",
       "blurb_len_clean          -0.008336      -0.066819       0.004452   \n",
       "state_num                -0.010299      -0.188444       0.019427   \n",
       "launched_at_hr            0.009604       0.012791       0.100385   \n",
       "launched_at_day          -0.022363      -0.013160      -0.011869   \n",
       "launched_at_month         0.602115      -0.076270       0.001942   \n",
       "launched_at_year         -0.051286       0.993262      -0.008207   \n",
       "deadline_hr              -0.000744       0.055658       0.114331   \n",
       "deadline_day             -0.003563       0.001041       0.002239   \n",
       "deadline_month            1.000000      -0.103233       0.013321   \n",
       "deadline_year            -0.103233       1.000000      -0.009815   \n",
       "created_at_hr             0.013321      -0.009815       1.000000   \n",
       "created_at_day           -0.008109       0.021137      -0.018999   \n",
       "created_at_month          0.355107      -0.054418      -0.004695   \n",
       "created_at_year          -0.022623       0.979309      -0.007809   \n",
       "launched-created          0.017834       0.089777       0.000464   \n",
       "deadline_launched        -0.022508      -0.150868      -0.001758   \n",
       "deadline-launched        -0.022508      -0.150868      -0.001758   \n",
       "count                          NaN            NaN            NaN   \n",
       "\n",
       "                    created_at_day  created_at_month  created_at_year  \\\n",
       "backers_count            -0.005334         -0.007671        -0.022357   \n",
       "goal                      0.008476          0.002557         0.015672   \n",
       "spotlight                -0.021518         -0.021912        -0.187711   \n",
       "staff_pick               -0.014295          0.007524        -0.066108   \n",
       "usd_pledged              -0.009225         -0.007128        -0.010589   \n",
       "category.id               0.011660          0.013355         0.527439   \n",
       "category.parent_id        0.005080          0.013138         0.026351   \n",
       "blurb_len_clean          -0.003927         -0.002183        -0.068883   \n",
       "state_num                -0.021518         -0.021912        -0.187711   \n",
       "launched_at_hr           -0.011270          0.005577         0.015401   \n",
       "launched_at_day           0.073346         -0.006855        -0.013776   \n",
       "launched_at_month        -0.015325          0.685992        -0.088358   \n",
       "launched_at_year          0.022002         -0.096489         0.984975   \n",
       "deadline_hr              -0.002205         -0.007859         0.058895   \n",
       "deadline_day             -0.032844         -0.003162         0.001299   \n",
       "deadline_month           -0.008109          0.355107        -0.022623   \n",
       "deadline_year             0.021137         -0.054418         0.979309   \n",
       "created_at_hr            -0.018999         -0.004695        -0.007809   \n",
       "created_at_day            1.000000         -0.015749         0.022540   \n",
       "created_at_month         -0.015749          1.000000        -0.138821   \n",
       "created_at_year           0.022540         -0.138821         1.000000   \n",
       "launched-created         -0.003263          0.006027        -0.049323   \n",
       "deadline_launched        -0.002782          0.015475        -0.172707   \n",
       "deadline-launched        -0.002782          0.015475        -0.172707   \n",
       "count                          NaN               NaN              NaN   \n",
       "\n",
       "                    launched-created  deadline_launched  deadline-launched  \\\n",
       "backers_count               0.022834           0.005116           0.005116   \n",
       "goal                        0.002367           0.024570           0.024570   \n",
       "spotlight                   0.019175          -0.084781          -0.084781   \n",
       "staff_pick                  0.050205          -0.007480          -0.007480   \n",
       "usd_pledged                 0.023991           0.016790           0.016790   \n",
       "category.id                 0.024004          -0.051975          -0.051975   \n",
       "category.parent_id          0.004155           0.032037           0.032037   \n",
       "blurb_len_clean             0.004384           0.049142           0.049142   \n",
       "state_num                   0.019175          -0.084781          -0.084781   \n",
       "launched_at_hr             -0.009824          -0.022821          -0.022821   \n",
       "launched_at_day            -0.011157           0.014919           0.014919   \n",
       "launched_at_month           0.006700           0.005188           0.005188   \n",
       "launched_at_year            0.090556          -0.169784          -0.169784   \n",
       "deadline_hr                -0.010657          -0.004416          -0.004416   \n",
       "deadline_day               -0.002762           0.008264           0.008264   \n",
       "deadline_month              0.017834          -0.022508          -0.022508   \n",
       "deadline_year               0.089777          -0.150868          -0.150868   \n",
       "created_at_hr               0.000464          -0.001758          -0.001758   \n",
       "created_at_day             -0.003263          -0.002782          -0.002782   \n",
       "created_at_month            0.006027           0.015475           0.015475   \n",
       "created_at_year            -0.049323          -0.172707          -0.172707   \n",
       "launched-created            1.000000           0.009779           0.009779   \n",
       "deadline_launched           0.009779           1.000000           1.000000   \n",
       "deadline-launched           0.009779           1.000000           1.000000   \n",
       "count                            NaN                NaN                NaN   \n",
       "\n",
       "                    count  \n",
       "backers_count         NaN  \n",
       "goal                  NaN  \n",
       "spotlight             NaN  \n",
       "staff_pick            NaN  \n",
       "usd_pledged           NaN  \n",
       "category.id           NaN  \n",
       "category.parent_id    NaN  \n",
       "blurb_len_clean       NaN  \n",
       "state_num             NaN  \n",
       "launched_at_hr        NaN  \n",
       "launched_at_day       NaN  \n",
       "launched_at_month     NaN  \n",
       "launched_at_year      NaN  \n",
       "deadline_hr           NaN  \n",
       "deadline_day          NaN  \n",
       "deadline_month        NaN  \n",
       "deadline_year         NaN  \n",
       "created_at_hr         NaN  \n",
       "created_at_day        NaN  \n",
       "created_at_month      NaN  \n",
       "created_at_year       NaN  \n",
       "launched-created      NaN  \n",
       "deadline_launched     NaN  \n",
       "deadline-launched     NaN  \n",
       "count                 NaN  \n",
       "\n",
       "[25 rows x 25 columns]"
      ]
     },
     "execution_count": 83,
     "metadata": {},
     "output_type": "execute_result"
    }
   ],
   "source": [
    "corrdf = cleaned_kickstarter_data.corr()\n",
    "\n",
    "corrdf"
   ]
  },
  {
   "cell_type": "markdown",
   "metadata": {},
   "source": [
    "### Kickstarter is predominantly domestic\n",
    "\n"
   ]
  },
  {
   "cell_type": "code",
   "execution_count": 84,
   "metadata": {},
   "outputs": [
    {
     "data": {
      "image/png": "[encoded data removed]",
      "text/plain": [
       "<Figure size 720x720 with 1 Axes>"
      ]
     },
     "metadata": {},
     "output_type": "display_data"
    }
   ],
   "source": [
    "def my_autopct(pct):\n",
    "    return ('%.2f' % pct) if pct > 2 else ''\n",
    "\n",
    "labels = ['US', 'GB', 'CA'] + [\"\" for x in range(19)]\n",
    "\n",
    "cleaned_kickstarter_data['country'].value_counts().plot.pie(autopct=my_autopct,labels=labels,figsize=(10,10))\n",
    "plt.title('Distribution of projects by countries')\n",
    "plt.tight_layout()"
   ]
  },
  {
   "cell_type": "code",
   "execution_count": 85,
   "metadata": {},
   "outputs": [
    {
     "data": {
      "text/plain": [
       "Index(['backers_count', 'blurb', 'category', 'country', 'created_at',\n",
       "       'currency', 'deadline', 'goal', 'launched_at', 'name', 'spotlight',\n",
       "       'staff_pick', 'state', 'usd_pledged', 'usd_type', 'category.id',\n",
       "       'category.name', 'category.slug', 'category.parent_id',\n",
       "       'blurb_len_clean', 'catg.type', 'catg.subtype', 'state_num',\n",
       "       'launched_at_hr', 'launched_at_day', 'launched_at_month',\n",
       "       'launched_at_year', 'deadline_hr', 'deadline_day', 'deadline_month',\n",
       "       'deadline_year', 'created_at_hr', 'created_at_day', 'created_at_month',\n",
       "       'created_at_year', 'launched-created', 'deadline_launched',\n",
       "       'deadline-launched', 'count'],\n",
       "      dtype='object')"
      ]
     },
     "execution_count": 85,
     "metadata": {},
     "output_type": "execute_result"
    }
   ],
   "source": [
    "cleaned_kickstarter_data.columns"
   ]
  },
  {
   "cell_type": "markdown",
   "metadata": {},
   "source": [
    "### Setting the right goal is very important!!\n"
   ]
  },
  {
   "cell_type": "code",
   "execution_count": 87,
   "metadata": {},
   "outputs": [
    {
     "data": {
      "image/png": "[encoded data removed]",
      "text/plain": [
       "<Figure size 780.625x720 with 1 Axes>"
      ]
     },
     "metadata": {},
     "output_type": "display_data"
    }
   ],
   "source": [
    "sns.factorplot(x='catg.type', y='goal', hue='state_num', kind='bar', data=cleaned_kickstarter_data, size=10)\n",
    "locs, labels = plt.xticks();\n",
    "plt.setp(labels, rotation=90);\n",
    "plt.title('Range of goal ($) among successful and failed projects')\n",
    "plt.gca().set_yscale(\"log\", nonposy='clip');"
   ]
  },
  {
   "cell_type": "markdown",
   "metadata": {},
   "source": [
    "## Step 4 : BUILDING THE MODELS\n",
    "In the search for the best model, four algorithms were investigated:\n",
    "\n",
    "* **Random Forest**\n",
    "* **Adaptive Boosting**\n",
    "* **Gradient Boosting**\n",
    "* **Logistic Regression**\n",
    "\n",
    "These classification models were chosen due to their predictive power in binary classification problems. Adaptive and Gradient Boosting are both boosting methods which choose to train one strong learner (the overfitting decision tree) on multiple weak learners (underfitting learners) in sequence.\n",
    "\n",
    "To avoid overfitting due to our limited dataset, functions for cross-validation and parameter optimization were defined such that they are applicable on either classification or regression algorithm\n",
    "\n"
   ]
  },
  {
   "cell_type": "markdown",
   "metadata": {},
   "source": [
    "### K Fold Cross Validation:\n",
    "\n",
    "This function (**fitting_of_model**) train the model given as 'alg' by performing cross-validation. It works on both regression and classification\n",
    "\n",
    "* **alg**: sklearn model\n",
    "* **dtrain**: pandas.DataFrame, training set\n",
    "* **predictors**: list, labels of features (column names) to be used in the model training\n",
    "* **target**: str, target variable\n",
    "* **scoring_method**: str, method to be used by the cross-validation to valuate the model\n",
    "* **performCV**: bool, perform Cv or not\n",
    "* **printFeatureImportance**: bool, plot histogram of features importance or not\n",
    "* **cv_folds**: int, degree of cross-validation"
   ]
  },
  {
   "cell_type": "code",
   "execution_count": 88,
   "metadata": {},
   "outputs": [],
   "source": [
    "%%capture\n",
    "# import scikit learn libraries\n",
    "from sklearn import cross_validation, metrics   #model optimization and valuation tools\n",
    "from sklearn.grid_search import GridSearchCV   #Perforing grid search\n",
    "\n",
    "# define a function that help to train models and perform cv\n",
    "def fitting_of_model(alg,dtrain,predictors,target,scoring_method,performCV=True,printFeatureImportance=True,cv_folds=5):\n",
    "\n",
    "    # train the algorithm on data\n",
    "    alg.fit(dtrain[predictors],dtrain[target])\n",
    "    \n",
    "    #predict on train set:\n",
    "    dtrain_predictions = alg.predict(dtrain[predictors])\n",
    "    if scoring_method == 'roc_auc':\n",
    "        dtrain_predprob = alg.predict_proba(dtrain[predictors])[:,1]\n",
    "    \n",
    "    #perform cross-validation\n",
    "    if performCV:\n",
    "        cv_score = cross_validation.cross_val_score(alg,dtrain[predictors],dtrain[target],cv=cv_folds,scoring=scoring_method)\n",
    "        \n",
    "        #print model report\n",
    "        print (\"\\nModel report:\")\n",
    "        if scoring_method == 'roc_auc':\n",
    "            print (\"Accuracy: %.4f\" % metrics.accuracy_score(dtrain[target].values,dtrain_predictions))\n",
    "            print (\"Precision: %.4f\" % metrics.precision_score(dtrain[target].values,dtrain_predictions))\n",
    "            print (\"Recall: %.4f\" % metrics.recall_score(dtrain[target].values,dtrain_predictions))\n",
    "            print (\"AUC Score (Train): %.4f\" % metrics.roc_auc_score(dtrain[target], dtrain_predprob))\n",
    "        if (scoring_method == 'mean_squared_error'):\n",
    "            print (\"Accuracy: %.4f\" % metrics.mean_squared_error(dtrain[target].values,dtrain_predictions))\n",
    "    if performCV:\n",
    "        print (\"CV Score: Mean : %.5g | Std : %.5g | Min : %.5g | Max : %.5g \\n\" % (np.mean(cv_score),np.std(cv_score),np.min(cv_score),np.max(cv_score)))\n",
    "    \n",
    "    #print feature importance\n",
    "    if printFeatureImportance:\n",
    "        if dir(alg)[0] == '_Booster': #runs only if alg is xgboost\n",
    "            feat_imp = pd.Series(alg.booster().get_fscore()).sort_values(ascending=False)\n",
    "        else:\n",
    "            feat_imp = pd.Series(alg.feature_importances_,predictors).sort_values(ascending=False)\n",
    "        feat_imp.plot(kind='bar',title='Feature Importances')\n",
    "        plt.ylabel('Feature Importe Score')\n",
    "        plt.show()"
   ]
  },
  {
   "cell_type": "markdown",
   "metadata": {},
   "source": [
    "### Optimize Number of Desicion Trees:\n",
    "\n",
    "This function, (**parameter_optimization**), is used to tune paremeters of a predictive algorithm\n",
    "\n",
    "* **alg**: sklearn model\n",
    "* **param_test**: dict, parameters to be tuned\n",
    "* **scoring_method**: str, method to be used by the cross-validation to valuate the model\n",
    "* **train**: pandas.DataFrame, training data\n",
    "* **predictors**: list, labels to be used in the model training process. They should be in the column names of dtrain\n",
    "* **target**: str, target variable"
   ]
  },
  {
   "cell_type": "code",
   "execution_count": 89,
   "metadata": {},
   "outputs": [],
   "source": [
    "# optimize n_estimator through grid search\n",
    "def parameter_optimization(alg,param_test,scoring_method,train,predictors,target):\n",
    "    gsearch = GridSearchCV(estimator=alg, param_grid = param_test, scoring=scoring_method,n_jobs=2,iid=False,cv=5)\n",
    "    gsearch.fit(train[predictors],train[target])\n",
    "    \n",
    "    return gsearch\n"
   ]
  },
  {
   "cell_type": "markdown",
   "metadata": {},
   "source": [
    "### Splitting The Data: Train and Test"
   ]
  },
  {
   "cell_type": "code",
   "execution_count": 92,
   "metadata": {},
   "outputs": [
    {
     "data": {
      "text/plain": [
       "(172676, 39)"
      ]
     },
     "execution_count": 92,
     "metadata": {},
     "output_type": "execute_result"
    }
   ],
   "source": [
    "cleaned_kickstarter_data.shape\n"
   ]
  },
  {
   "cell_type": "code",
   "execution_count": 100,
   "metadata": {},
   "outputs": [],
   "source": [
    "cleaned_kickstarter_data['success'] = (cleaned_kickstarter_data['state'] == 'successful')"
   ]
  },
  {
   "cell_type": "code",
   "execution_count": 101,
   "metadata": {},
   "outputs": [],
   "source": [
    "train = cleaned_kickstarter_data.copy() # make a copy of the training set\n",
    "# since the dataset is too big for my system, select a small sample size to carry on training and 5 folds cross validation\n",
    "train = train.loc[np.random.choice(train.index,size=62686,replace=False)]\n",
    "target = 'success' # set target variable - it will be used later in optimization\n",
    "\n",
    "# test\n",
    "indices = cleaned_kickstarter_data.index[~cleaned_kickstarter_data.index.isin(train.index)]\n",
    "test = cleaned_kickstarter_data.loc[np.random.choice(indices,size=100000,replace=False)]"
   ]
  },
  {
   "cell_type": "markdown",
   "metadata": {},
   "source": [
    "### Choosing the predictors"
   ]
  },
  {
   "cell_type": "code",
   "execution_count": 102,
   "metadata": {},
   "outputs": [],
   "source": [
    "\n",
    "predictors = ['category.parent_id',\n",
    "              'category.id',\n",
    "              'goal',\n",
    "              'staff_pick',\n",
    "              'launched_at_hr',\n",
    "              'launched_at_day',\n",
    "              'deadline_hr',\n",
    "              'deadline_day',\n",
    "              'launched-created',\n",
    "              'deadline-launched']"
   ]
  },
  {
   "cell_type": "markdown",
   "metadata": {},
   "source": [
    "# Random Forest\n",
    "\n",
    "* Optimized number of trees: TBD\n",
    "* Optimized predictors (in order of importance):\n",
    "    Category.id\n",
    "    Goal\n",
    "* ROC-AUC of test: TBD\n",
    "\n",
    "**Firstly, let's optimize and train the model**"
   ]
  },
  {
   "cell_type": "code",
   "execution_count": 103,
   "metadata": {},
   "outputs": [
    {
     "name": "stdout",
     "output_type": "stream",
     "text": [
      "\n",
      "Search grid results:\n",
      "params (best): 110\n",
      "score (best): 0.8238\n",
      "\n",
      "Model report:\n",
      "Accuracy: 0.7399\n",
      "Precision: 0.7593\n",
      "Recall: 0.7930\n",
      "AUC Score (Train): 0.8261\n",
      "CV Score: Mean : 0.82381 | Std : 0.0024627 | Min : 0.82158 | Max : 0.82721 \n",
      "\n"
     ]
    },
    {
     "data": {
      "image/png": "[encoded data removed]",
      "text/plain": [
       "<Figure size 432x288 with 1 Axes>"
      ]
     },
     "metadata": {},
     "output_type": "display_data"
    }
   ],
   "source": [
    "from sklearn.grid_search import GridSearchCV\n",
    "from sklearn.ensemble import RandomForestClassifier\n",
    "\n",
    "\n",
    "# optimize n_estimator through grid search\n",
    "parameter = {'n_estimators': list(range(30,151,20))} # define range over which number of trees is to be optimized\n",
    "\n",
    "# initiate classification model\n",
    "RandomForest_model = RandomForestClassifier(\n",
    "    min_samples_split=2,# use default\n",
    "    max_depth=5,\n",
    "    max_features='auto',\n",
    "    random_state = 10)\n",
    "\n",
    "# get results of the search grid\n",
    "RandomForest_results = parameter_optimization(RandomForest_model,parameter,'roc_auc',train,predictors,target)\n",
    "print(\"\\nSearch grid results:\")\n",
    "print(\"params (best):\", RandomForest_results.best_params_['n_estimators']) \n",
    "print(\"score (best): %.4f\" % RandomForest_results.best_score_)\n",
    "\n",
    "# cross validate the best model with optimized number of estimators\n",
    "fitting_of_model(RandomForest_results.best_estimator_,train,predictors,target,'roc_auc')\n",
    "     "
   ]
  },
  {
   "cell_type": "markdown",
   "metadata": {},
   "source": [
    "#### Let’s test it by doing prediction on a test dataset\n",
    "\n"
   ]
  },
  {
   "cell_type": "code",
   "execution_count": 104,
   "metadata": {},
   "outputs": [
    {
     "name": "stdout",
     "output_type": "stream",
     "text": [
      "ROC AUC: 0.7358 \n"
     ]
    }
   ],
   "source": [
    "RandomForest_prediction = RandomForest_results.best_estimator_.predict(test[predictors])\n",
    "\n",
    "print(\"ROC AUC: %.4f \" % metrics.roc_auc_score(RandomForest_prediction,test.success))"
   ]
  },
  {
   "cell_type": "markdown",
   "metadata": {},
   "source": [
    "# Gradient Boosting\n",
    "\n",
    "* Optimized number of trees: TBD\n",
    "* Optimized predictors (in order of importance):\n",
    "* Category.id\n",
    "* Goal\n",
    "* ROC-AUC of test: TBD\n",
    "\n",
    "**Firstly, let's optimize and train the model**"
   ]
  },
  {
   "cell_type": "code",
   "execution_count": 105,
   "metadata": {},
   "outputs": [
    {
     "name": "stdout",
     "output_type": "stream",
     "text": [
      "\n",
      "Search grid results:\n",
      "params (best): 150\n",
      "score (best): 0.8841\n",
      "\n",
      "Model report:\n",
      "Accuracy: 0.8094\n",
      "Precision: 0.8363\n",
      "Recall: 0.8256\n",
      "AUC Score (Train): 0.8997\n",
      "CV Score: Mean : 0.8841 | Std : 0.0014426 | Min : 0.8827 | Max : 0.88663 \n",
      "\n"
     ]
    },
    {
     "data": {
      "image/png": "[encoded data removed]",
      "text/plain": [
       "<Figure size 432x288 with 1 Axes>"
      ]
     },
     "metadata": {},
     "output_type": "display_data"
    }
   ],
   "source": [
    "from sklearn.ensemble import GradientBoostingClassifier\n",
    "\n",
    "# optimize n_estimator through grid search\n",
    "parameter = {'n_estimators': list(range(30,151,20))} # define range over which number of trees is to be optimized\n",
    "\n",
    "# initiate classification model\n",
    "GradientBoosting_model = GradientBoostingClassifier(\n",
    "    learning_rate=0.1, # use default\n",
    "    min_samples_split=2,# use default\n",
    "    max_depth=5,\n",
    "    max_features='auto',\n",
    "    subsample=0.8, # try <1 to decrease variance and increase bias\n",
    "    random_state = 10)\n",
    "\n",
    "# get results of the search grid\n",
    "GradientBoosting_results = parameter_optimization(GradientBoosting_model,parameter,'roc_auc',train,predictors,target)\n",
    "print(\"\\nSearch grid results:\")\n",
    "print(\"params (best):\", GradientBoosting_results.best_params_['n_estimators']) \n",
    "print(\"score (best): %.4f\" % GradientBoosting_results.best_score_)\n",
    "\n",
    "# cross validate the best model with optimized number of estimators\n",
    "fitting_of_model(GradientBoosting_results.best_estimator_,train,predictors,target,'roc_auc')\n",
    "     \n"
   ]
  },
  {
   "cell_type": "markdown",
   "metadata": {},
   "source": [
    "#### Let’s test it by doing prediction on a test dataset"
   ]
  },
  {
   "cell_type": "code",
   "execution_count": 106,
   "metadata": {},
   "outputs": [
    {
     "name": "stdout",
     "output_type": "stream",
     "text": [
      "ROC AUC: 0.7903 \n"
     ]
    }
   ],
   "source": [
    "GradientBoosting_prediction = GradientBoosting_results.best_estimator_.predict(test[predictors])\n",
    "\n",
    "print(\"ROC AUC: %.4f \" % metrics.roc_auc_score(GradientBoosting_prediction,test.success))"
   ]
  },
  {
   "cell_type": "markdown",
   "metadata": {},
   "source": [
    "# Adaptive Boosting\n",
    "\n",
    "* Optimized number of trees: TBD\n",
    "* Optimized predictors (in order of importance):\n",
    "* Category.id\n",
    "* Goal\n",
    "* ROC-AUC of test: TBD\n",
    "\n",
    "**Firstly, let's optimize and train the model**\n",
    "\n"
   ]
  },
  {
   "cell_type": "code",
   "execution_count": 107,
   "metadata": {},
   "outputs": [
    {
     "name": "stdout",
     "output_type": "stream",
     "text": [
      "\n",
      "Search grid results:\n",
      "params (best): 150\n",
      "score (best): 0.8275\n",
      "\n",
      "Model report:\n",
      "Accuracy: 0.7500\n",
      "Precision: 0.7685\n",
      "Recall: 0.8005\n",
      "AUC Score (Train): 0.8283\n",
      "CV Score: Mean : 0.82751 | Std : 0.0025458 | Min : 0.82469 | Max : 0.83094 \n",
      "\n"
     ]
    },
    {
     "data": {
      "image/png": "[encoded data removed]",
      "text/plain": [
       "<Figure size 432x288 with 1 Axes>"
      ]
     },
     "metadata": {},
     "output_type": "display_data"
    }
   ],
   "source": [
    "from sklearn.ensemble import AdaBoostClassifier\n",
    "\n",
    "# optimize n_estimator through grid search\n",
    "parameter = {'n_estimators': list(range(30,151,20))} # define range over which number of trees is to be optimized\n",
    "\n",
    "# initiate classification model\n",
    "AdaBoost_model = AdaBoostClassifier(\n",
    "    learning_rate=0.1, # use default\n",
    "    random_state = 10)\n",
    "\n",
    "# get results of the search grid\n",
    "AdaBoost_results = parameter_optimization(AdaBoost_model,parameter,'roc_auc',train,predictors,target)\n",
    "print(\"\\nSearch grid results:\")\n",
    "print(\"params (best):\", AdaBoost_results.best_params_['n_estimators']) \n",
    "print(\"score (best): %.4f\" % AdaBoost_results.best_score_)\n",
    "\n",
    "# cross validate the best model with optimized number of estimators\n",
    "fitting_of_model(AdaBoost_results.best_estimator_,train,predictors,target,'roc_auc')\n",
    "     \n"
   ]
  },
  {
   "cell_type": "markdown",
   "metadata": {},
   "source": [
    "#### Let’s test it by doing prediction on a test dataset"
   ]
  },
  {
   "cell_type": "code",
   "execution_count": 108,
   "metadata": {},
   "outputs": [
    {
     "name": "stdout",
     "output_type": "stream",
     "text": [
      "ROC AUC: 0.7472 \n"
     ]
    }
   ],
   "source": [
    "AdaBoost_prediction = AdaBoost_results.best_estimator_.predict(test[predictors])\n",
    "\n",
    "print(\"ROC AUC: %.4f \" % metrics.roc_auc_score(AdaBoost_prediction,test.success))"
   ]
  },
  {
   "cell_type": "markdown",
   "metadata": {},
   "source": [
    "# Logistic Regression\n",
    "\n",
    "* Optimized predictors (in order of importance):\n",
    "* Category.id\n",
    "* Goal\n",
    "* ROC-AUC of test: TBD\n",
    "\n",
    "**Firstly, let's optimize and train the model**"
   ]
  },
  {
   "cell_type": "code",
   "execution_count": 109,
   "metadata": {},
   "outputs": [
    {
     "name": "stdout",
     "output_type": "stream",
     "text": [
      "\n",
      "Model report:\n",
      "Accuracy: 0.6480\n",
      "Precision: 0.7042\n",
      "Recall: 0.6544\n",
      "AUC Score (Train): 0.6911\n",
      "CV Score: Mean : 0.68796 | Std : 0.010903 | Min : 0.67134 | Max : 0.70286 \n",
      "\n"
     ]
    }
   ],
   "source": [
    "from sklearn.linear_model import LogisticRegression\n",
    "\n",
    "# optimize n_estimator through grid search\n",
    "parameter = {'n_estimators': list(range(30,151,20))} # define range over which number of trees is to be optimized\n",
    "\n",
    "# initiate classification model\n",
    "LogisticRegression_model = LogisticRegression()\n",
    "\n",
    "# cross validate the best model with optimized number of estimators\n",
    "fitting_of_model(LogisticRegression_model,train,predictors,target,'roc_auc',printFeatureImportance=False)\n",
    "     \n"
   ]
  },
  {
   "cell_type": "markdown",
   "metadata": {},
   "source": [
    "#### Let’s test it by doing prediction on a test dataset"
   ]
  },
  {
   "cell_type": "code",
   "execution_count": 110,
   "metadata": {},
   "outputs": [
    {
     "name": "stdout",
     "output_type": "stream",
     "text": [
      "ROC AUC: 0.6474 \n"
     ]
    }
   ],
   "source": [
    "LogisticRegression_prediction = LogisticRegression_model.predict(test[predictors])\n",
    "\n",
    "print(\"ROC AUC: %.4f \" % metrics.roc_auc_score(LogisticRegression_prediction,test.success))"
   ]
  },
  {
   "cell_type": "markdown",
   "metadata": {},
   "source": [
    "# XGBoost by Category.parent_id\n",
    "\n",
    "* Optimized number of trees: TBD\n",
    "* Optimized predictors (in order of importance):\n",
    "* Category.id\n",
    "* Goal\n",
    "* ROC-AUC of test: TBD\n",
    "\n",
    "**Firstly, let's optimize and train the model**"
   ]
  },
  {
   "cell_type": "code",
   "execution_count": 111,
   "metadata": {},
   "outputs": [],
   "source": [
    "values = cleaned_kickstarter_data['catg.type'].unique()\n",
    "keys = cleaned_kickstarter_data['category.parent_id'].unique()\n",
    "\n",
    "xgb_dictionary = dict(zip(keys, values))"
   ]
  },
  {
   "cell_type": "code",
   "execution_count": 118,
   "metadata": {},
   "outputs": [],
   "source": [
    "from sklearn.ensemble import GradientBoostingClassifier\n",
    "\n",
    "def fitting_per_category(mytrain,category):\n",
    "    \n",
    "    train = mytrain.loc[mytrain['category.parent_id'] == category]\n",
    "\n",
    "    print (\"Optimizing the classifier...\")\n",
    "\n",
    "    tic = dt.datetime.now() # initiate the timing\n",
    "\n",
    "    # optimize n_estimator through grid search\n",
    "    parameters = {'n_estimators': list(range(30,151,20))} # define range over which number of trees is to be optimized\n",
    "\n",
    "    # initiate classification model\n",
    "    XGB_model = GradientBoostingClassifier(\n",
    "        learning_rate=0.1, # use default\n",
    "        min_samples_split=2,# use default\n",
    "        max_depth=5,\n",
    "        max_features='auto',\n",
    "        subsample=0.8, # try <1 to decrease variance and increase bias\n",
    "        random_state = 10)\n",
    "\n",
    "    # get results of the search grid\n",
    "    XGB_results = parameter_optimization(XGB_model,parameters,'roc_auc',train,predictors,target)\n",
    "    print(\"\\nSearch grid results:\")\n",
    "    print(\"params (best):\", XGB_results.best_params_['n_estimators']) \n",
    "    print(\"score (best): %.4f\" % XGB_results.best_score_)\n",
    "    \n",
    "    values = cleaned_kickstarter_data['catg.type'].unique()\n",
    "    keys = cleaned_kickstarter_data['category.parent_id'].unique()\n",
    "\n",
    "    dictionary = dict(zip(keys, values))\n",
    "    \n",
    "    print(\"\\nCategory:\" + dictionary[category] + \"\\n\")\n",
    "\n",
    "    # cross validate the best model with optimized number of estimators\n",
    "    fitting_of_model(XGB_results.best_estimator_,train,predictors,target,'roc_auc',printFeatureImportance=False)\n",
    "\n",
    "    print (\"\\n Processing time:\", dt.datetime.now()-tic)\n",
    "    \n",
    "    print (\"\\nTesting the classifier...\\n\")\n",
    "    \n",
    "    XGB_predictions = XGB_results.best_estimator_.predict(test[predictors])\n",
    "    \n",
    "    print (\"TEST Accuracy: %.4f\" % metrics.accuracy_score(XGB_predictions,test.success))\n",
    "    print (\"TEST Precision: %.4f\" % metrics.precision_score(XGB_predictions,test.success))\n",
    "    print (\"TEST Recall: %.4f\" % metrics.recall_score(XGB_predictions,test.success))\n",
    "    print (\"TEST AUC Score (Train): %.4f\" % metrics.roc_auc_score(XGB_predictions,test.success))\n",
    "    \n",
    "    print(\"\\n--------------------------------------------------------------------\\n\\n\\n\")"
   ]
  },
  {
   "cell_type": "markdown",
   "metadata": {},
   "source": [
    "#### See the cross validated results for every category"
   ]
  },
  {
   "cell_type": "code",
   "execution_count": 119,
   "metadata": {},
   "outputs": [
    {
     "name": "stdout",
     "output_type": "stream",
     "text": [
      "Optimizing the classifier...\n",
      "\n",
      "Search grid results:\n",
      "params (best): 30\n",
      "score (best): 0.8017\n",
      "\n",
      "Category:food\n",
      "\n",
      "\n",
      "Model report:\n",
      "Accuracy: 0.8120\n",
      "Precision: 0.8182\n",
      "Recall: 0.4030\n",
      "AUC Score (Train): 0.8667\n",
      "CV Score: Mean : 0.80175 | Std : 0.010299 | Min : 0.78957 | Max : 0.81471 \n",
      "\n",
      "\n",
      " Processing time: 0:00:08.412837\n",
      "\n",
      "Testing the classifier...\n",
      "\n",
      "TEST Accuracy: 0.5328\n",
      "TEST Precision: 0.2103\n",
      "TEST Recall: 0.8507\n",
      "TEST AUC Score (Train): 0.6660\n",
      "\n",
      "--------------------------------------------------------------------\n",
      "\n",
      "\n",
      "\n",
      "Optimizing the classifier...\n",
      "\n",
      "Search grid results:\n",
      "params (best): 50\n",
      "score (best): 0.7842\n",
      "\n",
      "Category:art\n",
      "\n",
      "\n",
      "Model report:\n",
      "Accuracy: 0.7675\n",
      "Precision: 0.7732\n",
      "Recall: 0.8404\n",
      "AUC Score (Train): 0.8533\n",
      "CV Score: Mean : 0.78416 | Std : 0.0098753 | Min : 0.77106 | Max : 0.79929 \n",
      "\n",
      "\n",
      " Processing time: 0:00:11.621595\n",
      "\n",
      "Testing the classifier...\n",
      "\n",
      "TEST Accuracy: 0.6945\n",
      "TEST Precision: 0.6378\n",
      "TEST Recall: 0.7814\n",
      "TEST AUC Score (Train): 0.7007\n",
      "\n",
      "--------------------------------------------------------------------\n",
      "\n",
      "\n",
      "\n",
      "Optimizing the classifier...\n",
      "\n",
      "Search grid results:\n",
      "params (best): 70\n",
      "score (best): 0.9251\n",
      "\n",
      "Category:publishing\n",
      "\n",
      "\n",
      "Model report:\n",
      "Accuracy: 0.9027\n",
      "Precision: 0.9367\n",
      "Recall: 0.9290\n",
      "AUC Score (Train): 0.9657\n",
      "CV Score: Mean : 0.92514 | Std : 0.0017201 | Min : 0.92355 | Max : 0.92812 \n",
      "\n",
      "\n",
      " Processing time: 0:00:12.189149\n",
      "\n",
      "Testing the classifier...\n",
      "\n",
      "TEST Accuracy: 0.7087\n",
      "TEST Precision: 0.6758\n",
      "TEST Recall: 0.7795\n",
      "TEST AUC Score (Train): 0.7101\n",
      "\n",
      "--------------------------------------------------------------------\n",
      "\n",
      "\n",
      "\n",
      "Optimizing the classifier...\n",
      "\n",
      "Search grid results:\n",
      "params (best): 50\n",
      "score (best): 0.8495\n",
      "\n",
      "Category:comics\n",
      "\n",
      "\n",
      "Model report:\n",
      "Accuracy: 0.9155\n",
      "Precision: 0.9222\n",
      "Recall: 0.9727\n",
      "AUC Score (Train): 0.9649\n",
      "CV Score: Mean : 0.84948 | Std : 0.0093966 | Min : 0.83934 | Max : 0.86504 \n",
      "\n",
      "\n",
      " Processing time: 0:00:05.580491\n",
      "\n",
      "Testing the classifier...\n",
      "\n",
      "TEST Accuracy: 0.6912\n",
      "TEST Precision: 0.8696\n",
      "TEST Recall: 0.6765\n",
      "TEST AUC Score (Train): 0.7035\n",
      "\n",
      "--------------------------------------------------------------------\n",
      "\n",
      "\n",
      "\n",
      "Optimizing the classifier...\n",
      "\n",
      "Search grid results:\n",
      "params (best): 150\n",
      "score (best): 0.8292\n",
      "\n",
      "Category:journalism\n",
      "\n",
      "\n",
      "Model report:\n",
      "Accuracy: 0.9884\n",
      "Precision: 0.9955\n",
      "Recall: 0.9672\n",
      "AUC Score (Train): 0.9993\n",
      "CV Score: Mean : 0.8292 | Std : 0.031617 | Min : 0.7734 | Max : 0.86574 \n",
      "\n",
      "\n",
      " Processing time: 0:00:05.932720\n",
      "\n",
      "Testing the classifier...\n",
      "\n",
      "TEST Accuracy: 0.5896\n",
      "TEST Precision: 0.4047\n",
      "TEST Recall: 0.7556\n",
      "TEST AUC Score (Train): 0.6365\n",
      "\n",
      "--------------------------------------------------------------------\n",
      "\n",
      "\n",
      "\n",
      "Optimizing the classifier...\n",
      "\n",
      "Search grid results:\n",
      "params (best): 30\n",
      "score (best): 0.7750\n",
      "\n",
      "Category:crafts\n",
      "\n",
      "\n",
      "Model report:\n",
      "Accuracy: 0.8574\n",
      "Precision: 0.9143\n",
      "Recall: 0.5321\n",
      "AUC Score (Train): 0.9220\n",
      "CV Score: Mean : 0.77495 | Std : 0.036879 | Min : 0.73093 | Max : 0.82052 \n",
      "\n",
      "\n",
      " Processing time: 0:00:04.315216\n",
      "\n",
      "Testing the classifier...\n",
      "\n",
      "TEST Accuracy: 0.5007\n",
      "TEST Precision: 0.1431\n",
      "TEST Recall: 0.8432\n",
      "TEST AUC Score (Train): 0.6538\n",
      "\n",
      "--------------------------------------------------------------------\n",
      "\n",
      "\n",
      "\n",
      "Optimizing the classifier...\n",
      "\n",
      "Search grid results:\n",
      "params (best): 50\n",
      "score (best): 0.9266\n",
      "\n",
      "Category:design\n",
      "\n",
      "\n",
      "Model report:\n",
      "Accuracy: 0.9240\n",
      "Precision: 0.9619\n",
      "Recall: 0.9261\n",
      "AUC Score (Train): 0.9795\n",
      "CV Score: Mean : 0.92659 | Std : 0.0089612 | Min : 0.91322 | Max : 0.93972 \n",
      "\n",
      "\n",
      " Processing time: 0:00:05.921708\n",
      "\n",
      "Testing the classifier...\n",
      "\n",
      "TEST Accuracy: 0.7156\n",
      "TEST Precision: 0.7916\n",
      "TEST Recall: 0.7287\n",
      "TEST AUC Score (Train): 0.7118\n",
      "\n",
      "--------------------------------------------------------------------\n",
      "\n",
      "\n",
      "\n",
      "Optimizing the classifier...\n",
      "\n",
      "Search grid results:\n",
      "params (best): 70\n",
      "score (best): 0.9073\n",
      "\n",
      "Category:film & video\n",
      "\n",
      "\n",
      "Model report:\n",
      "Accuracy: 0.8598\n",
      "Precision: 0.8955\n",
      "Recall: 0.8707\n",
      "AUC Score (Train): 0.9409\n",
      "CV Score: Mean : 0.90729 | Std : 0.0039748 | Min : 0.90099 | Max : 0.9129 \n",
      "\n",
      "\n",
      " Processing time: 0:00:17.853668\n",
      "\n",
      "Testing the classifier...\n",
      "\n",
      "TEST Accuracy: 0.6992\n",
      "TEST Precision: 0.6461\n",
      "TEST Recall: 0.7836\n",
      "TEST AUC Score (Train): 0.7045\n",
      "\n",
      "--------------------------------------------------------------------\n",
      "\n",
      "\n",
      "\n",
      "Optimizing the classifier...\n",
      "\n",
      "Search grid results:\n",
      "params (best): 50\n",
      "score (best): 0.7733\n",
      "\n",
      "Category:dance\n",
      "\n",
      "\n",
      "Model report:\n",
      "Accuracy: 0.9414\n",
      "Precision: 0.9320\n",
      "Recall: 0.9936\n",
      "AUC Score (Train): 0.9914\n",
      "CV Score: Mean : 0.77334 | Std : 0.030842 | Min : 0.72243 | Max : 0.8117 \n",
      "\n",
      "\n",
      " Processing time: 0:00:03.358601\n",
      "\n",
      "Testing the classifier...\n",
      "\n",
      "TEST Accuracy: 0.6896\n",
      "TEST Precision: 0.8024\n",
      "TEST Recall: 0.6953\n",
      "TEST AUC Score (Train): 0.6871\n",
      "\n",
      "--------------------------------------------------------------------\n",
      "\n",
      "\n",
      "\n",
      "Optimizing the classifier...\n",
      "\n",
      "Search grid results:\n",
      "params (best): 70\n",
      "score (best): 0.7847\n",
      "\n",
      "Category:photography\n",
      "\n",
      "\n",
      "Model report:\n",
      "Accuracy: 0.8931\n",
      "Precision: 0.9333\n",
      "Recall: 0.7990\n",
      "AUC Score (Train): 0.9523\n",
      "CV Score: Mean : 0.78473 | Std : 0.020015 | Min : 0.75789 | Max : 0.80907 \n",
      "\n",
      "\n",
      " Processing time: 0:00:05.625825\n",
      "\n",
      "Testing the classifier...\n",
      "\n",
      "TEST Accuracy: 0.5965\n",
      "TEST Precision: 0.4470\n",
      "TEST Recall: 0.7352\n",
      "TEST AUC Score (Train): 0.6295\n",
      "\n",
      "--------------------------------------------------------------------\n",
      "\n",
      "\n",
      "\n",
      "Optimizing the classifier...\n",
      "\n",
      "Search grid results:\n",
      "params (best): 70\n",
      "score (best): 0.8279\n",
      "\n",
      "Category:technology\n",
      "\n",
      "\n",
      "Model report:\n",
      "Accuracy: 0.8207\n",
      "Precision: 0.8100\n",
      "Recall: 0.7072\n",
      "AUC Score (Train): 0.9031\n",
      "CV Score: Mean : 0.8279 | Std : 0.0058383 | Min : 0.81935 | Max : 0.8356 \n",
      "\n",
      "\n",
      " Processing time: 0:00:14.298565\n",
      "\n",
      "Testing the classifier...\n",
      "\n",
      "TEST Accuracy: 0.6141\n",
      "TEST Precision: 0.4791\n",
      "TEST Recall: 0.7476\n",
      "TEST AUC Score (Train): 0.6430\n",
      "\n",
      "--------------------------------------------------------------------\n",
      "\n",
      "\n",
      "\n",
      "Optimizing the classifier...\n",
      "\n",
      "Search grid results:\n",
      "params (best): 30\n",
      "score (best): 0.8750\n",
      "\n",
      "Category:music\n",
      "\n",
      "\n",
      "Model report:\n",
      "Accuracy: 0.8152\n",
      "Precision: 0.8456\n",
      "Recall: 0.8889\n",
      "AUC Score (Train): 0.8968\n",
      "CV Score: Mean : 0.87498 | Std : 0.012566 | Min : 0.8533 | Max : 0.89239 \n",
      "\n",
      "\n",
      " Processing time: 0:00:15.855622\n",
      "\n",
      "Testing the classifier...\n",
      "\n",
      "TEST Accuracy: 0.7333\n",
      "TEST Precision: 0.8145\n",
      "TEST Recall: 0.7399\n",
      "TEST AUC Score (Train): 0.7312\n",
      "\n",
      "--------------------------------------------------------------------\n",
      "\n",
      "\n",
      "\n",
      "Optimizing the classifier...\n",
      "\n",
      "Search grid results:\n",
      "params (best): 50\n",
      "score (best): 0.9524\n",
      "\n",
      "Category:games\n",
      "\n",
      "\n",
      "Model report:\n",
      "Accuracy: 0.9196\n",
      "Precision: 0.9561\n",
      "Recall: 0.9176\n",
      "AUC Score (Train): 0.9772\n",
      "CV Score: Mean : 0.95235 | Std : 0.0029941 | Min : 0.9466 | Max : 0.95527 \n",
      "\n",
      "\n",
      " Processing time: 0:00:08.100438\n",
      "\n",
      "Testing the classifier...\n",
      "\n",
      "TEST Accuracy: 0.7003\n",
      "TEST Precision: 0.8327\n",
      "TEST Recall: 0.6965\n",
      "TEST AUC Score (Train): 0.7024\n",
      "\n",
      "--------------------------------------------------------------------\n",
      "\n",
      "\n",
      "\n",
      "Optimizing the classifier...\n",
      "\n",
      "Search grid results:\n",
      "params (best): 30\n",
      "score (best): 0.8347\n",
      "\n",
      "Category:fashion\n",
      "\n",
      "\n",
      "Model report:\n",
      "Accuracy: 0.8191\n",
      "Precision: 0.8390\n",
      "Recall: 0.8301\n",
      "AUC Score (Train): 0.9017\n",
      "CV Score: Mean : 0.83467 | Std : 0.012735 | Min : 0.81883 | Max : 0.85698 \n",
      "\n",
      "\n",
      " Processing time: 0:00:06.941765\n",
      "\n",
      "Testing the classifier...\n",
      "\n",
      "TEST Accuracy: 0.7205\n",
      "TEST Precision: 0.7234\n",
      "TEST Recall: 0.7685\n",
      "TEST AUC Score (Train): 0.7173\n",
      "\n",
      "--------------------------------------------------------------------\n",
      "\n",
      "\n",
      "\n",
      "Optimizing the classifier...\n",
      "\n",
      "Search grid results:\n",
      "params (best): 30\n",
      "score (best): 0.7495\n",
      "\n",
      "Category:theater\n",
      "\n",
      "\n",
      "Model report:\n",
      "Accuracy: 0.8215\n",
      "Precision: 0.8022\n",
      "Recall: 0.9302\n",
      "AUC Score (Train): 0.9067\n",
      "CV Score: Mean : 0.74948 | Std : 0.026628 | Min : 0.70523 | Max : 0.77867 \n",
      "\n",
      "\n",
      " Processing time: 0:00:04.194375\n",
      "\n",
      "Testing the classifier...\n",
      "\n",
      "TEST Accuracy: 0.6674\n",
      "TEST Precision: 0.7656\n",
      "TEST Recall: 0.6837\n",
      "TEST AUC Score (Train): 0.6615\n",
      "\n",
      "--------------------------------------------------------------------\n",
      "\n",
      "\n",
      "\n"
     ]
    }
   ],
   "source": [
    "for i in xgb_dictionary:\n",
    "    fitting_per_category(train,i)"
   ]
  },
  {
   "cell_type": "markdown",
   "metadata": {},
   "source": [
    "## Step 5 : EVALUATION"
   ]
  },
  {
   "cell_type": "code",
   "execution_count": 157,
   "metadata": {},
   "outputs": [],
   "source": [
    "from sklearn import metrics\n",
    "\n",
    "def ROC_Evaluation(mydata, model):\n",
    "    \n",
    "    cleaned_kickstarter_data_new = mydata.copy()\n",
    "    \n",
    "    \n",
    "    probs = model.best_estimator_.predict_proba(cleaned_kickstarter_data_new[predictors])\n",
    "    pred = model.best_estimator_.predict(cleaned_kickstarter_data_new[predictors])\n",
    "\n",
    "    MODP = pd.DataFrame(data=probs)\n",
    "    \n",
    "    fpr = dict()\n",
    "    tpr = dict()\n",
    "    roc_auc = dict()\n",
    "    fpr, tpr, _ = metrics.roc_curve(cleaned_kickstarter_data_new.success,MODP.values[0:,1])\n",
    "    roc_auc = metrics.auc(fpr, tpr)\n",
    "\n",
    "    # Plot ROC-AUC\n",
    "    plt.figure()\n",
    "    plt.plot(fpr, tpr, color='darkorange',\n",
    "             lw=2, label='ROC curve (area = %0.4f)' % roc_auc)\n",
    "    plt.plot([0, 1], [0, 1], color='navy', lw=2, linestyle='--')\n",
    "    plt.xlim([0.0, 1.0])\n",
    "    plt.ylim([0.0, 1.05])\n",
    "    plt.xlabel('False Positive Rate')\n",
    "    plt.ylabel('True Positive Rate')\n",
    "    plt.title('ROC curve')\n",
    "    plt.legend(loc=\"lower right\")\n",
    "    plt.show()\n",
    "    print('ROC AUC =', roc_auc)\n",
    "\n"
   ]
  },
  {
   "cell_type": "code",
   "execution_count": 158,
   "metadata": {},
   "outputs": [],
   "source": [
    "from sklearn.metrics import confusion_matrix\n",
    "\n",
    "def evaluation_scores(actual,pred):\n",
    "    \n",
    "    cm = confusion_matrix(actual,pred)\n",
    "    \n",
    "    print('Confusion Matrix : \\n', cm, '\\n')\n",
    "    \n",
    "    total = sum(sum(cm))\n",
    "    \n",
    "    # from confusion matrix calculate scores\n",
    "    \n",
    "    accuracy=(cm[0,0]+cm[1,1])/total\n",
    "    sensitivity = cm[0,0]/(cm[0,0]+cm[0,1])\n",
    "    specificity = cm[1,1]/(cm[1,0]+cm[1,1])\n",
    "\n",
    "    print('Accuracy : ', accuracy)\n",
    "    print('Sensitivity : ', sensitivity)\n",
    "    print('Specificity : ', specificity)"
   ]
  },
  {
   "cell_type": "code",
   "execution_count": 159,
   "metadata": {},
   "outputs": [
    {
     "name": "stdout",
     "output_type": "stream",
     "text": [
      "Confusion Matrix : \n",
      " [[33322 10160]\n",
      " [10452 46066]] \n",
      "\n",
      "Accuracy :  0.79388\n",
      "Sensitivity :  0.7663400947518514\n",
      "Specificity :  0.8150677660214445\n"
     ]
    },
    {
     "data": {
      "image/png": "[encoded data removed]",
      "text/plain": [
       "<Figure size 432x288 with 1 Axes>"
      ]
     },
     "metadata": {},
     "output_type": "display_data"
    },
    {
     "name": "stdout",
     "output_type": "stream",
     "text": [
      "ROC AUC = 0.8996548897276941\n"
     ]
    }
   ],
   "source": [
    "evaluation_scores(test.success,GradientBoosting_prediction)\n",
    "ROC_Evaluation(train, GradientBoosting_results)\n"
   ]
  },
  {
   "cell_type": "code",
   "execution_count": 160,
   "metadata": {},
   "outputs": [
    {
     "name": "stdout",
     "output_type": "stream",
     "text": [
      "Confusion Matrix : \n",
      " [[29162 14320]\n",
      " [11700 44818]] \n",
      "\n",
      "Accuracy :  0.7398\n",
      "Sensitivity :  0.6706683225242629\n",
      "Specificity :  0.7929863052478856\n"
     ]
    },
    {
     "data": {
      "image/png": "[encoded data removed]",
      "text/plain": [
       "<Figure size 432x288 with 1 Axes>"
      ]
     },
     "metadata": {},
     "output_type": "display_data"
    },
    {
     "name": "stdout",
     "output_type": "stream",
     "text": [
      "ROC AUC = 0.8261313891565286\n"
     ]
    }
   ],
   "source": [
    "evaluation_scores(test.success,RandomForest_prediction)\n",
    "ROC_Evaluation(train, RandomForest_results)"
   ]
  },
  {
   "cell_type": "code",
   "execution_count": 161,
   "metadata": {},
   "outputs": [
    {
     "name": "stdout",
     "output_type": "stream",
     "text": [
      "Confusion Matrix : \n",
      " [[29777 13705]\n",
      " [11202 45316]] \n",
      "\n",
      "Accuracy :  0.75093\n",
      "Sensitivity :  0.6848121061588703\n",
      "Specificity :  0.8017976573834884\n"
     ]
    },
    {
     "data": {
      "image/png": "[encoded data removed]",
      "text/plain": [
       "<Figure size 432x288 with 1 Axes>"
      ]
     },
     "metadata": {},
     "output_type": "display_data"
    },
    {
     "name": "stdout",
     "output_type": "stream",
     "text": [
      "ROC AUC = 0.8283393457481445\n"
     ]
    }
   ],
   "source": [
    "evaluation_scores(test.success,AdaBoost_prediction)\n",
    "ROC_Evaluation(train, AdaBoost_results)"
   ]
  },
  {
   "cell_type": "code",
   "execution_count": 156,
   "metadata": {},
   "outputs": [
    {
     "name": "stdout",
     "output_type": "stream",
     "text": [
      "Confusion Matrix : \n",
      " [[27919 15563]\n",
      " [19394 37124]] \n",
      "\n",
      "Accuracy :  0.65043\n",
      "Sensitivity :  0.6420817809668369\n",
      "Specificity :  0.6568526841006405\n"
     ]
    }
   ],
   "source": [
    "evaluation_scores(test.success,LogisticRegression_prediction)"
   ]
  }
 ],
 "metadata": {
  "kernelspec": {
   "display_name": "Python 3",
   "language": "python",
   "name": "python3"
  },
  "language_info": {
   "codemirror_mode": {
    "name": "ipython",
    "version": 3
   },
   "file_extension": ".py",
   "mimetype": "text/x-python",
   "name": "python",
   "nbconvert_exporter": "python",
   "pygments_lexer": "ipython3",
   "version": "3.6.5"
  }
 },
 "nbformat": 4,
 "nbformat_minor": 2
}
